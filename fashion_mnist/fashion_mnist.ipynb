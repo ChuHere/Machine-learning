{
 "cells": [
  {
   "cell_type": "markdown",
   "metadata": {},
   "source": [
    "# Fashion Mnist\n",
    "This project was made as a university assignment.\n",
    "\n",
    "We have 32x32 images in grayscale, they were made from Fashion Mnist dataset. The task is to classify images into specified labels. Training data is in train.csv. We will experiment with feedforward neural networks (FNNs) and convolutional neural networks (CNNs).\n",
    "\n",
    "There are several labels:\n",
    "* 0 - T-shirt/top\n",
    "* 1 - Trouser\n",
    "* 2 - Pullover\n",
    "* 3 - Dress\n",
    "* 4 - Coat\n",
    "* 5 - Sandal\n",
    "* 6 - Shirt\n",
    "* 7 - Sneaker\n",
    "* 8 - Bag\n",
    "* 9 - Ankle boot"
   ]
  },
  {
   "cell_type": "code",
   "execution_count": 1,
   "metadata": {},
   "outputs": [],
   "source": [
    "import numpy as np\n",
    "import pandas as pd\n",
    "from tqdm import tqdm\n",
    "\n",
    "import torch\n",
    "import torch.nn as nn\n",
    "import torch.nn.functional as F\n",
    "\n",
    "import matplotlib.pyplot as plt\n",
    "from sklearn.metrics import accuracy_score\n",
    "from sklearn.model_selection import train_test_split, ParameterGrid\n",
    "from sklearn.preprocessing import StandardScaler, MinMaxScaler"
   ]
  },
  {
   "cell_type": "markdown",
   "metadata": {},
   "source": [
    "# Load data and data preprocessing"
   ]
  },
  {
   "cell_type": "code",
   "execution_count": 2,
   "metadata": {},
   "outputs": [],
   "source": [
    "#Reshape the data\n",
    "def reshape_data(data):\n",
    "    tmp = data.reshape(-1, 1, 32, 32)\n",
    "    return tmp\n",
    "\n",
    "#Scale dataset\n",
    "def scale_one(scaler, train, target_data):\n",
    "    train_scaled = scaler.fit_transform(train)\n",
    "    res = scaler.transform(target_data)\n",
    "    return reshape_data(res)\n",
    "\n",
    "#Scale train, val and test sets\n",
    "def scale_data(scaler, train, val, test):\n",
    "    train_scaled = scaler.fit_transform(train)\n",
    "    val_scaled = scaler.transform(val)\n",
    "    test_scaled = scaler.transform(test)\n",
    "\n",
    "    return reshape_data(train_scaled), reshape_data(val_scaled), reshape_data(test_scaled)\n",
    "\n",
    "#Create a tensor dataset\n",
    "def create_dataset(data, data_res):\n",
    "    tmp = torch.utils.data.TensorDataset(torch.tensor(data).to(\"cuda\"), torch.tensor(data_res.values).to(\"cuda\"))\n",
    "    return tmp\n",
    "\n",
    "#Create a dataloader for models\n",
    "def create_loader(data, batch_s, shuffle):\n",
    "    tmp = torch.utils.data.DataLoader(data, batch_size=batch_s, shuffle=shuffle)\n",
    "    return tmp"
   ]
  },
  {
   "cell_type": "markdown",
   "metadata": {},
   "source": [
    "Training dataset has 52500 rows and 1025 features.\n",
    "\n",
    "Features **pixel1**-**1024** represent pixels in the imaxe (from left to right, row by row). Pixel values range from 0 to 255, the higher the number, the darker the corresponding pixel.\n",
    "\n",
    "There are no missing values in the dataset.\n",
    "\n",
    "Training dataset will be divided into training (60%), validation (20%) and testing (20%) set."
   ]
  },
  {
   "cell_type": "code",
   "execution_count": 3,
   "metadata": {},
   "outputs": [],
   "source": [
    "df = pd.read_csv('train.csv')\n",
    "Xdata = df.copy()\n",
    "_ = Xdata.drop('label', axis=1, inplace=True)\n",
    "Ydata = df['label']\n",
    "\n",
    "rd_seed = 10 #Fixed seed\n",
    "train, test, train_res, test_res = train_test_split(Xdata, Ydata, test_size=0.4, random_state=rd_seed)\n",
    "val, test, val_res, test_res = train_test_split(test, test_res, test_size=0.5, random_state=rd_seed)"
   ]
  },
  {
   "cell_type": "code",
   "execution_count": 4,
   "metadata": {},
   "outputs": [
    {
     "data": {
      "text/html": [
       "<div>\n",
       "<style scoped>\n",
       "    .dataframe tbody tr th:only-of-type {\n",
       "        vertical-align: middle;\n",
       "    }\n",
       "\n",
       "    .dataframe tbody tr th {\n",
       "        vertical-align: top;\n",
       "    }\n",
       "\n",
       "    .dataframe thead th {\n",
       "        text-align: right;\n",
       "    }\n",
       "</style>\n",
       "<table border=\"1\" class=\"dataframe\">\n",
       "  <thead>\n",
       "    <tr style=\"text-align: right;\">\n",
       "      <th></th>\n",
       "      <th>pix1</th>\n",
       "      <th>pix2</th>\n",
       "      <th>pix3</th>\n",
       "      <th>pix4</th>\n",
       "      <th>pix5</th>\n",
       "      <th>pix6</th>\n",
       "      <th>pix7</th>\n",
       "      <th>pix8</th>\n",
       "      <th>pix9</th>\n",
       "      <th>pix10</th>\n",
       "      <th>...</th>\n",
       "      <th>pix1016</th>\n",
       "      <th>pix1017</th>\n",
       "      <th>pix1018</th>\n",
       "      <th>pix1019</th>\n",
       "      <th>pix1020</th>\n",
       "      <th>pix1021</th>\n",
       "      <th>pix1022</th>\n",
       "      <th>pix1023</th>\n",
       "      <th>pix1024</th>\n",
       "      <th>label</th>\n",
       "    </tr>\n",
       "  </thead>\n",
       "  <tbody>\n",
       "    <tr>\n",
       "      <th>0</th>\n",
       "      <td>0</td>\n",
       "      <td>0</td>\n",
       "      <td>0</td>\n",
       "      <td>0</td>\n",
       "      <td>0</td>\n",
       "      <td>0</td>\n",
       "      <td>0</td>\n",
       "      <td>0</td>\n",
       "      <td>0</td>\n",
       "      <td>0</td>\n",
       "      <td>...</td>\n",
       "      <td>0</td>\n",
       "      <td>0</td>\n",
       "      <td>0</td>\n",
       "      <td>0</td>\n",
       "      <td>0</td>\n",
       "      <td>0</td>\n",
       "      <td>0</td>\n",
       "      <td>0</td>\n",
       "      <td>0</td>\n",
       "      <td>3</td>\n",
       "    </tr>\n",
       "    <tr>\n",
       "      <th>1</th>\n",
       "      <td>1</td>\n",
       "      <td>1</td>\n",
       "      <td>1</td>\n",
       "      <td>1</td>\n",
       "      <td>1</td>\n",
       "      <td>1</td>\n",
       "      <td>1</td>\n",
       "      <td>1</td>\n",
       "      <td>1</td>\n",
       "      <td>1</td>\n",
       "      <td>...</td>\n",
       "      <td>1</td>\n",
       "      <td>1</td>\n",
       "      <td>1</td>\n",
       "      <td>1</td>\n",
       "      <td>1</td>\n",
       "      <td>1</td>\n",
       "      <td>1</td>\n",
       "      <td>1</td>\n",
       "      <td>1</td>\n",
       "      <td>3</td>\n",
       "    </tr>\n",
       "    <tr>\n",
       "      <th>2</th>\n",
       "      <td>1</td>\n",
       "      <td>1</td>\n",
       "      <td>1</td>\n",
       "      <td>1</td>\n",
       "      <td>1</td>\n",
       "      <td>1</td>\n",
       "      <td>1</td>\n",
       "      <td>1</td>\n",
       "      <td>1</td>\n",
       "      <td>1</td>\n",
       "      <td>...</td>\n",
       "      <td>1</td>\n",
       "      <td>1</td>\n",
       "      <td>1</td>\n",
       "      <td>1</td>\n",
       "      <td>1</td>\n",
       "      <td>1</td>\n",
       "      <td>1</td>\n",
       "      <td>1</td>\n",
       "      <td>1</td>\n",
       "      <td>7</td>\n",
       "    </tr>\n",
       "    <tr>\n",
       "      <th>3</th>\n",
       "      <td>0</td>\n",
       "      <td>0</td>\n",
       "      <td>0</td>\n",
       "      <td>0</td>\n",
       "      <td>0</td>\n",
       "      <td>0</td>\n",
       "      <td>0</td>\n",
       "      <td>0</td>\n",
       "      <td>0</td>\n",
       "      <td>0</td>\n",
       "      <td>...</td>\n",
       "      <td>0</td>\n",
       "      <td>0</td>\n",
       "      <td>0</td>\n",
       "      <td>0</td>\n",
       "      <td>0</td>\n",
       "      <td>0</td>\n",
       "      <td>0</td>\n",
       "      <td>0</td>\n",
       "      <td>0</td>\n",
       "      <td>9</td>\n",
       "    </tr>\n",
       "    <tr>\n",
       "      <th>4</th>\n",
       "      <td>1</td>\n",
       "      <td>1</td>\n",
       "      <td>1</td>\n",
       "      <td>1</td>\n",
       "      <td>1</td>\n",
       "      <td>1</td>\n",
       "      <td>1</td>\n",
       "      <td>1</td>\n",
       "      <td>1</td>\n",
       "      <td>1</td>\n",
       "      <td>...</td>\n",
       "      <td>1</td>\n",
       "      <td>1</td>\n",
       "      <td>1</td>\n",
       "      <td>1</td>\n",
       "      <td>1</td>\n",
       "      <td>1</td>\n",
       "      <td>1</td>\n",
       "      <td>1</td>\n",
       "      <td>1</td>\n",
       "      <td>5</td>\n",
       "    </tr>\n",
       "  </tbody>\n",
       "</table>\n",
       "<p>5 rows × 1025 columns</p>\n",
       "</div>"
      ],
      "text/plain": [
       "   pix1  pix2  pix3  pix4  pix5  pix6  pix7  pix8  pix9  pix10  ...  pix1016  \\\n",
       "0     0     0     0     0     0     0     0     0     0      0  ...        0   \n",
       "1     1     1     1     1     1     1     1     1     1      1  ...        1   \n",
       "2     1     1     1     1     1     1     1     1     1      1  ...        1   \n",
       "3     0     0     0     0     0     0     0     0     0      0  ...        0   \n",
       "4     1     1     1     1     1     1     1     1     1      1  ...        1   \n",
       "\n",
       "   pix1017  pix1018  pix1019  pix1020  pix1021  pix1022  pix1023  pix1024  \\\n",
       "0        0        0        0        0        0        0        0        0   \n",
       "1        1        1        1        1        1        1        1        1   \n",
       "2        1        1        1        1        1        1        1        1   \n",
       "3        0        0        0        0        0        0        0        0   \n",
       "4        1        1        1        1        1        1        1        1   \n",
       "\n",
       "   label  \n",
       "0      3  \n",
       "1      3  \n",
       "2      7  \n",
       "3      9  \n",
       "4      5  \n",
       "\n",
       "[5 rows x 1025 columns]"
      ]
     },
     "execution_count": 4,
     "metadata": {},
     "output_type": "execute_result"
    }
   ],
   "source": [
    "df.head()"
   ]
  },
  {
   "cell_type": "code",
   "execution_count": 5,
   "metadata": {},
   "outputs": [
    {
     "name": "stdout",
     "output_type": "stream",
     "text": [
      "Shape: (52500, 1025)\n",
      "\n",
      "<class 'pandas.core.frame.DataFrame'>\n",
      "RangeIndex: 52500 entries, 0 to 52499\n",
      "Columns: 1025 entries, pix1 to label\n",
      "dtypes: int64(1025)\n",
      "memory usage: 410.6 MB\n",
      "None\n",
      "\n",
      "Number of null values: 0\n"
     ]
    }
   ],
   "source": [
    "print(\"Shape: \" + str(df.shape))\n",
    "print()\n",
    "print(df.info())\n",
    "print()\n",
    "print(\"Number of null values: \" + str(df.isnull().sum().sum()))"
   ]
  },
  {
   "cell_type": "markdown",
   "metadata": {},
   "source": [
    "The average pixel value is 44.74 in the training set."
   ]
  },
  {
   "cell_type": "code",
   "execution_count": 6,
   "metadata": {},
   "outputs": [
    {
     "name": "stdout",
     "output_type": "stream",
     "text": [
      "44.74\n"
     ]
    }
   ],
   "source": [
    "print(round(train.mean().mean(), 2))"
   ]
  },
  {
   "cell_type": "markdown",
   "metadata": {},
   "source": [
    "We will display few images from the training set."
   ]
  },
  {
   "cell_type": "code",
   "execution_count": 7,
   "metadata": {},
   "outputs": [
    {
     "data": {
      "image/png": "[encoded data removed]",
      "text/plain": [
       "<Figure size 300x300 with 9 Axes>"
      ]
     },
     "metadata": {},
     "output_type": "display_data"
    }
   ],
   "source": [
    "n_row, n_col = 3, 3\n",
    "fig, axes = plt.subplots(n_row, n_col, figsize=(1*n_col, 1*n_row))\n",
    "axes = axes.ravel()\n",
    "\n",
    "for i in range(n_row*n_col):\n",
    "    img = train.iloc[i, :].values.reshape(32, 32)\n",
    "    axes[i].imshow(img, cmap='gray_r', interpolation='nearest')\n",
    "    axes[i].set_title('Label: ' + str(train_res.iloc[i]))\n",
    "    axes[i].axis('off')\n",
    "\n",
    "plt.subplots_adjust(hspace=0.5)\n",
    "plt.show()"
   ]
  },
  {
   "cell_type": "markdown",
   "metadata": {},
   "source": [
    "We will apply standardization and MinMax normalization. The data will be then transformed into a suitable form for our neural networks. "
   ]
  },
  {
   "cell_type": "code",
   "execution_count": 8,
   "metadata": {},
   "outputs": [],
   "source": [
    "scaler = StandardScaler()\n",
    "train_stand, val_stand, test_stand = scale_data(scaler, train, val, test)\n",
    "\n",
    "scaler = MinMaxScaler()\n",
    "train_mm, val_mm, test_mm = scale_data(scaler, train, val, test)\n",
    "\n",
    "train_rs = reshape_data(train.to_numpy().copy())\n",
    "val_rs = reshape_data(val.to_numpy().copy())\n",
    "test_rs = reshape_data(test.to_numpy().copy())"
   ]
  },
  {
   "cell_type": "code",
   "execution_count": 9,
   "metadata": {},
   "outputs": [],
   "source": [
    "train_data = create_dataset(train_rs, train_res)\n",
    "train_data_stand = create_dataset(train_stand, train_res)\n",
    "train_data_mm = create_dataset(train_mm, train_res)\n",
    "\n",
    "val_data = create_dataset(val_rs, val_res)\n",
    "val_data_stand = create_dataset(val_stand, val_res)\n",
    "val_data_mm = create_dataset(val_mm, val_res)\n",
    "\n",
    "test_data = create_dataset(test_rs, test_res)\n",
    "test_data_stand = create_dataset(test_stand, test_res)\n",
    "test_data_mm = create_dataset(test_mm, test_res)"
   ]
  },
  {
   "cell_type": "code",
   "execution_count": 10,
   "metadata": {},
   "outputs": [],
   "source": [
    "training_loader = create_loader(train_data, 32, True)\n",
    "validation_loader = create_loader(val_data, 128, False)\n",
    "test_loader = create_loader(test_data, 128, False)\n",
    "\n",
    "training_loader_stand = create_loader(train_data_stand, 32, True)\n",
    "validation_loader_stand = create_loader(val_data_stand, 128, False)\n",
    "test_loader_stand = create_loader(test_data_stand, 128, False)\n",
    "\n",
    "training_loader_mm = create_loader(train_data_mm, 32, True)\n",
    "validation_loader_mm = create_loader(val_data_mm, 128, False)\n",
    "test_loader_mm = create_loader(test_data_mm, 128, False)"
   ]
  },
  {
   "cell_type": "markdown",
   "metadata": {},
   "source": [
    "# Helper functions for our models"
   ]
  },
  {
   "cell_type": "code",
   "execution_count": 11,
   "metadata": {},
   "outputs": [],
   "source": [
    "#Get model accuracy on given dataset\n",
    "def get_acc(model, dataset, loader):\n",
    "    predictions = np.zeros(len(dataset))\n",
    "    y_data = np.zeros(len(dataset))\n",
    "    ii = 0\n",
    "\n",
    "    for vdata in loader:\n",
    "        vinputs, vlabels = vdata\n",
    "        with torch.no_grad():\n",
    "            voutputs = model(vinputs.to(torch.float32))\n",
    "        predictions[ii:(ii + vinputs.shape[0])] = voutputs.cpu().argmax(1).numpy()\n",
    "        y_data[ii:(ii + vinputs.shape[0])] = vlabels.cpu().numpy()\n",
    "        ii += vinputs.shape[0]\n",
    "    print(f\"Test accuracy: {accuracy_score(y_data, predictions)}\")"
   ]
  },
  {
   "cell_type": "code",
   "execution_count": 12,
   "metadata": {},
   "outputs": [],
   "source": [
    "#Train one epoch\n",
    "def train_one_epoch(model, loss_fn, optimizer, train_l):\n",
    "    running_cum_loss = 0.\n",
    "\n",
    "    for data in train_l:\n",
    "        inputs, labels = data\n",
    "\n",
    "        optimizer.zero_grad()\n",
    "\n",
    "        outputs = model(inputs.to(torch.float32))\n",
    "        loss = loss_fn(outputs, labels)\n",
    "        loss.backward()\n",
    "\n",
    "        optimizer.step()\n",
    "\n",
    "        last_mean_loss = loss.item()\n",
    "        running_cum_loss += last_mean_loss * inputs.shape[0]\n",
    "            \n",
    "    return running_cum_loss / len(train_data)"
   ]
  },
  {
   "cell_type": "code",
   "execution_count": 13,
   "metadata": {},
   "outputs": [],
   "source": [
    "#Training loop\n",
    "def net_train(model_t, train_l, val_l, optimizer):\n",
    "    EPOCHS = 25\n",
    "    tmp_acc = 0\n",
    "\n",
    "    loss_fn = torch.nn.CrossEntropyLoss()\n",
    "\n",
    "    tmp_acc = 0\n",
    "\n",
    "    for epoch in range(EPOCHS):\n",
    "        \n",
    "        model_t.train(True)\n",
    "        avg_loss = train_one_epoch(model_t, loss_fn, optimizer, train_l)\n",
    "        model_t.train(False)\n",
    "\n",
    "        running_cum_vloss = 0.0\n",
    "        vcorrect = 0\n",
    "        for vdata in val_l:\n",
    "            vinputs, vlabels = vdata\n",
    "            with torch.no_grad():\n",
    "                voutputs = model_t(vinputs.to(torch.float32))\n",
    "                vloss = loss_fn(voutputs, vlabels)\n",
    "            running_cum_vloss += vloss * vinputs.shape[0]\n",
    "            vcorrect += (voutputs.argmax(1) == vlabels).float().sum()\n",
    "\n",
    "        avg_vloss = running_cum_vloss / len(val_data)\n",
    "        vacc = vcorrect / len(val_data)\n",
    "\n",
    "        tmp_acc = vacc\n",
    "    \n",
    "    return tmp_acc.cpu().numpy()"
   ]
  },
  {
   "cell_type": "code",
   "execution_count": 14,
   "metadata": {},
   "outputs": [],
   "source": [
    "#Training loop with early-stopping regularization (based on validation accuracy)\n",
    "def net_train_early_stopping(model_t, train_l, val_l, model_path, optimizer, save=False):\n",
    "    MAX_EPOCHS = 30\n",
    "    K_EPOCHS = 5\n",
    "\n",
    "    epochs = []\n",
    "    train_loss = []\n",
    "    best_val_acc = 0\n",
    "    validation_loss = []\n",
    "    epochs_from_best = 0\n",
    "\n",
    "    loss_fn = torch.nn.CrossEntropyLoss()\n",
    "\n",
    "    for epoch in range(MAX_EPOCHS):\n",
    "        model_t.train(True)\n",
    "        avg_loss = train_one_epoch(model_t, loss_fn, optimizer, train_l)   \n",
    "        model_t.train(False)\n",
    "\n",
    "        running_cum_vloss = 0.0\n",
    "        vcorrect = 0\n",
    "        for vdata in val_l:\n",
    "            vinputs, vlabels = vdata\n",
    "            with torch.no_grad():\n",
    "                voutputs = model_t(vinputs.to(torch.float32))\n",
    "                vloss = loss_fn(voutputs, vlabels)\n",
    "            running_cum_vloss += vloss * vinputs.shape[0]\n",
    "            vcorrect += (voutputs.argmax(1) == vlabels).float().sum()\n",
    "\n",
    "        avg_vloss = running_cum_vloss / len(val_data)\n",
    "        vacc = vcorrect / len(val_data)\n",
    "\n",
    "        epochs.append(epoch)\n",
    "        validation_loss.append(avg_vloss)\n",
    "        train_loss.append(avg_loss)\n",
    "\n",
    "        if vacc > best_val_acc:\n",
    "            best_val_acc = vacc\n",
    "            if save:\n",
    "                torch.save(model_t.state_dict(), model_path)\n",
    "            epochs_from_best = 0\n",
    "        else:\n",
    "            epochs_from_best += 1\n",
    "\n",
    "        if epochs_from_best > K_EPOCHS:\n",
    "            break\n",
    "\n",
    "    return best_val_acc.cpu().numpy()"
   ]
  },
  {
   "cell_type": "markdown",
   "metadata": {},
   "source": [
    "# Models"
   ]
  },
  {
   "cell_type": "markdown",
   "metadata": {},
   "source": [
    "We will try two types of neural networks: feedforward and convolutional.\n",
    "\n",
    "We will experiment with different layer depths/sizes, optimization and regularization methods. We will use standardization/normalization.\n",
    "\n",
    "Regularization: early-stopping (stopping training after k-epochs of no improvement), dropout(2d) (resetting random inputs/channels to layer)\n",
    "\n",
    "Optimization methods: Adam and SGD + different learning rates\n",
    "\n",
    "Several models were tried, but only the more important ones were left. The activation functions RELU and softmax (in the loss function) were used.\n",
    "\n",
    "Disclaimer: The training of neural networks does not always turn out the same (with the same model), the observations I made were made from the average of several attempts."
   ]
  },
  {
   "cell_type": "markdown",
   "metadata": {},
   "source": [
    "# FNN"
   ]
  },
  {
   "cell_type": "markdown",
   "metadata": {},
   "source": [
    "Feedforward neural networks are generally not bad at image classification. Each neuron is connected to each neuron in the following layer, each pixel is taken as a separate feature, which can lead to high dimensionality of the inputs. This type does not capture much spatial information (like surrounding pixels)."
   ]
  },
  {
   "cell_type": "code",
   "execution_count": 15,
   "metadata": {},
   "outputs": [],
   "source": [
    "# Generic model for layer number tuning, static layer size\n",
    "# class forward_net_gen(nn.Module):\n",
    "#     def __init__(self, input_size, hidden_size, output_size, layers_num):\n",
    "#         super().__init__()\n",
    "#         self.input_size = input_size\n",
    "#         self.hidden_size = hidden_size\n",
    "#         self.output_size = output_size\n",
    "#         self.layers_num = layers_num\n",
    "\n",
    "#         self.layers = nn.ModuleList()\n",
    "\n",
    "#         self.layers.append(nn.Linear(input_size, hidden_size).to(\"cuda\"))\n",
    "#         for i in range(self.layers_num-2):\n",
    "#             self.layers.append(nn.Linear(hidden_size, hidden_size).to(\"cuda\"))\n",
    "#         self.layers.append(nn.Linear(hidden_size, output_size).to(\"cuda\"))\n",
    "\n",
    "#     def forward(self, x):\n",
    "#         x = x.flatten(start_dim = 1)\n",
    "#         for i in range(len(self.layers)-1):\n",
    "#             x = F.relu(self.layers[i](x))\n",
    "#         x = self.layers[-1](x)\n",
    "#         return x\n",
    "\n",
    "# One hidden layer (RELU) + output layer (softmax)\n",
    "class forward_net1(nn.Module):\n",
    "    def __init__(self):\n",
    "        super().__init__()\n",
    "        self.fc1 = nn.Linear(32*32, 256).to(\"cuda\")\n",
    "        self.fco = nn.Linear(256, 10).to(\"cuda\")\n",
    "\n",
    "    def forward(self, x):\n",
    "        x = x.flatten(start_dim = 1)\n",
    "        x = F.relu(self.fc1(x))\n",
    "        x = self.fco(x)\n",
    "        return x\n",
    "\n",
    "# Three hidden layers (RELU) + output layer (softmax)\n",
    "class forward_net2(nn.Module):\n",
    "    def __init__(self):\n",
    "        super().__init__()\n",
    "        self.fc1 = nn.Linear(32*32, 32*32).to(\"cuda\")\n",
    "        self.fc2 = nn.Linear(32*32, 512).to(\"cuda\")\n",
    "        self.fc3 = nn.Linear(512, 128).to(\"cuda\")\n",
    "        self.fco = nn.Linear(128, 10).to(\"cuda\")\n",
    "\n",
    "    def forward(self, x):\n",
    "        x = x.flatten(start_dim = 1)\n",
    "        x = F.relu(self.fc1(x))\n",
    "        x = F.relu(self.fc2(x))\n",
    "        x = F.relu(self.fc3(x))\n",
    "        x = self.fco(x)\n",
    "        return x\n",
    "\n",
    "# Three hidden layers (RELU), dropout (after 1st) + output layer (softmax)\n",
    "class forward_net3(nn.Module):\n",
    "    def __init__(self):\n",
    "        super().__init__()\n",
    "        self.fc1 = nn.Linear(32*32, 32*32).to(\"cuda\")\n",
    "        self.fc1_drop = nn.Dropout(0.1)\n",
    "        self.fc2 = nn.Linear(32*32, 256).to(\"cuda\")\n",
    "        self.fc3 = nn.Linear(256, 64).to(\"cuda\")\n",
    "        self.fco = nn.Linear(64, 10).to(\"cuda\")\n",
    "\n",
    "    def forward(self, x):\n",
    "        x = x.flatten(start_dim = 1)\n",
    "        x = F.relu(self.fc1(x))\n",
    "        x = self.fc1_drop(x)\n",
    "        x = F.relu(self.fc2(x))\n",
    "        x = F.relu(self.fc3(x))\n",
    "        x = self.fco(x)\n",
    "        return x\n",
    "\n",
    "# Three hidden layers (RELU), dropout (after each) + output layer (softmax)\n",
    "class forward_net4(nn.Module):\n",
    "    def __init__(self):\n",
    "        super().__init__()\n",
    "        self.fc1 = nn.Linear(32*32, 32*32).to(\"cuda\")\n",
    "        self.fc1_drop = nn.Dropout(0.1)\n",
    "        self.fc2 = nn.Linear(32*32, 256).to(\"cuda\")\n",
    "        self.fc2_drop = nn.Dropout(0.1)\n",
    "        self.fc3 = nn.Linear(256, 64).to(\"cuda\")\n",
    "        self.fc3_drop = nn.Dropout(0.1)\n",
    "        self.fco = nn.Linear(64, 10).to(\"cuda\")\n",
    "\n",
    "    def forward(self, x):\n",
    "        x = x.flatten(start_dim = 1)\n",
    "        x = F.relu(self.fc1(x))\n",
    "        x = self.fc1_drop(x)\n",
    "        x = F.relu(self.fc2(x))\n",
    "        x = self.fc2_drop(x)\n",
    "        x = F.relu(self.fc3(x))\n",
    "        x = self.fc3_drop(x)\n",
    "        x = self.fco(x)\n",
    "        return x"
   ]
  },
  {
   "cell_type": "code",
   "execution_count": 16,
   "metadata": {},
   "outputs": [],
   "source": [
    "# Training for the generic model\n",
    "\n",
    "# forward_net_grid = {\n",
    "#     'input_size': [32*32],\n",
    "#     'hidden_size': [16, 20, 24],\n",
    "#     'output_size': [10, 14, 18],\n",
    "#     'layers_num': [*range(4, 7)]\n",
    "# }\n",
    "\n",
    "# forward_net_param = ParameterGrid(forward_net_grid)\n",
    "\n",
    "# val_acc = []\n",
    "\n",
    "# with tqdm(total=len(forward_net_param)) as pbar:\n",
    "#     for x in forward_net_param:\n",
    "#         print(x)\n",
    "#         tmp_model = forward_net(x['input_size'], x['hidden_size'], x['output_size'], x['layers_num']).to(\"cuda\")\n",
    "#         val_acc.append(forward_net_train(tmp_model, training_loader, validation_loader))\n",
    "#         pbar.update(1)\n",
    "\n",
    "# best_m = forward_net_param[np.argmax(val_acc)]\n",
    "\n",
    "# vanilla = forward_net(best_m['input_size'], best_m['hidden_size'], best_m['output_size'], best_m['layers_num']).to(\"cuda\")\n",
    "# print(forward_net_train(vanilla, training_loader, validation_loader))\n",
    "# torch.save(vanilla.state_dict(), \"forwardNN/vanilla.pt\")"
   ]
  },
  {
   "cell_type": "markdown",
   "metadata": {},
   "source": [
    "## Original data"
   ]
  },
  {
   "cell_type": "markdown",
   "metadata": {},
   "source": [
    "We will use Adam optimizer for now."
   ]
  },
  {
   "cell_type": "code",
   "execution_count": 17,
   "metadata": {},
   "outputs": [
    {
     "name": "stdout",
     "output_type": "stream",
     "text": [
      "Accuracy score (val): 0.79029\n",
      "Accuracy score (val) - early stopping: 0.78990\n"
     ]
    }
   ],
   "source": [
    "ffnn_1 = forward_net1()\n",
    "optimizer_tmp = torch.optim.Adam(ffnn_1.parameters())\n",
    "print('Accuracy score (val): {0:.5f}'.format(net_train(ffnn_1, training_loader, validation_loader, optimizer_tmp)))\n",
    "print('Accuracy score (val) - early stopping: {0:.5f}'.format(net_train_early_stopping(ffnn_1, training_loader, validation_loader, 'forwardNN/tmp.pt', optimizer_tmp)))"
   ]
  },
  {
   "cell_type": "code",
   "execution_count": 18,
   "metadata": {},
   "outputs": [
    {
     "name": "stdout",
     "output_type": "stream",
     "text": [
      "Accuracy score (val): 0.82429\n",
      "Accuracy score (val) - early stopping: 0.84638\n"
     ]
    }
   ],
   "source": [
    "ffnn_2 = forward_net2()\n",
    "optimizer_tmp = torch.optim.Adam(ffnn_2.parameters())\n",
    "print('Accuracy score (val): {0:.5f}'.format(net_train(ffnn_2, training_loader, validation_loader, optimizer_tmp)))\n",
    "print('Accuracy score (val) - early stopping: {0:.5f}'.format(net_train_early_stopping(ffnn_2, training_loader, validation_loader, 'forwardNN/ffnn_2.pt', optimizer_tmp)))"
   ]
  },
  {
   "cell_type": "code",
   "execution_count": 19,
   "metadata": {},
   "outputs": [
    {
     "name": "stdout",
     "output_type": "stream",
     "text": [
      "Accuracy score (val): 0.83914\n",
      "Accuracy score (val) - early stopping: 0.84876\n"
     ]
    }
   ],
   "source": [
    "ffnn_3 = forward_net3()\n",
    "optimizer_tmp = torch.optim.Adam(ffnn_3.parameters())\n",
    "print('Accuracy score (val): {0:.5f}'.format(net_train(ffnn_3, training_loader, validation_loader, optimizer_tmp)))\n",
    "print('Accuracy score (val) - early stopping: {0:.5f}'.format(net_train_early_stopping(ffnn_3, training_loader, validation_loader, 'forwardNN/ffnn_3.pt', optimizer_tmp)))"
   ]
  },
  {
   "cell_type": "code",
   "execution_count": 20,
   "metadata": {},
   "outputs": [
    {
     "name": "stdout",
     "output_type": "stream",
     "text": [
      "Accuracy score (val): 0.83381\n",
      "Accuracy score (val) - early stopping: 0.84286\n"
     ]
    }
   ],
   "source": [
    "ffnn_4 = forward_net4()\n",
    "optimizer_tmp = torch.optim.Adam(ffnn_4.parameters())\n",
    "print('Accuracy score (val): {0:.5f}'.format(net_train(ffnn_4, training_loader, validation_loader, optimizer_tmp)))\n",
    "print('Accuracy score (val) - early stopping: {0:.5f}'.format(net_train_early_stopping(ffnn_4, training_loader, validation_loader, 'forwardNN/ffnn_4.pt', optimizer_tmp)))"
   ]
  },
  {
   "cell_type": "markdown",
   "metadata": {},
   "source": [
    "We see that early-stopping regularization improves the models.\n",
    "\n",
    "The basic model (1.) had the worst accuracy. More complex models performed better and have decent results. The best model is the 3rd with accuracy of 85% (dropout after the 1st layer)."
   ]
  },
  {
   "cell_type": "markdown",
   "metadata": {},
   "source": [
    "## Standardization"
   ]
  },
  {
   "cell_type": "markdown",
   "metadata": {},
   "source": [
    "Left models with early-stopping in the notebook, it gave better results."
   ]
  },
  {
   "cell_type": "code",
   "execution_count": 18,
   "metadata": {},
   "outputs": [
    {
     "name": "stdout",
     "output_type": "stream",
     "text": [
      "Accuracy score (val) - early stopping: 0.84600\n"
     ]
    }
   ],
   "source": [
    "ffnn_2 = forward_net2()\n",
    "optimizer_tmp = torch.optim.Adam(ffnn_2.parameters())\n",
    "# print('Accuracy score (val): {0:.5f}'.format(net_train(ffnn_2, training_loader_stand, validation_loader_stand, optimizer_tmp)))\n",
    "print('Accuracy score (val) - early stopping: {0:.5f}'.format(net_train_early_stopping(ffnn_2, training_loader_stand, validation_loader_stand, 'forwardNN/ffnn_2_stand.pt', optimizer_tmp)))"
   ]
  },
  {
   "cell_type": "code",
   "execution_count": 19,
   "metadata": {},
   "outputs": [
    {
     "name": "stdout",
     "output_type": "stream",
     "text": [
      "Accuracy score (val) - early stopping: 0.84771\n"
     ]
    }
   ],
   "source": [
    "ffnn_3 = forward_net3()\n",
    "optimizer_tmp = torch.optim.Adam(ffnn_3.parameters())\n",
    "# print('Accuracy score (val): {0:.5f}'.format(net_train(ffnn_3, training_loader_stand, validation_loader_stand, optimizer_tmp)))\n",
    "print('Accuracy score (val) - early stopping: {0:.5f}'.format(net_train_early_stopping(ffnn_3, training_loader_stand, validation_loader_stand, 'forwardNN/ffnn_3_stand.pt', optimizer_tmp)))"
   ]
  },
  {
   "cell_type": "code",
   "execution_count": 24,
   "metadata": {},
   "outputs": [
    {
     "name": "stdout",
     "output_type": "stream",
     "text": [
      "Accuracy score (val) - early stopping: 0.85143\n"
     ]
    }
   ],
   "source": [
    "ffnn_4 = forward_net4()\n",
    "optimizer_tmp = torch.optim.Adam(ffnn_4.parameters())\n",
    "# print('Accuracy score (val): {0:.5f}'.format(net_train(ffnn_4, training_loader_stand, validation_loader_stand, optimizer_tmp)))\n",
    "print('Accuracy score (val) - early stopping: {0:.5f}'.format(net_train_early_stopping(ffnn_4, training_loader_stand, validation_loader_stand, 'forwardNN/ffnn_4_stand.pt', optimizer_tmp)))"
   ]
  },
  {
   "cell_type": "markdown",
   "metadata": {},
   "source": [
    "Standardization improves the models slightly on average."
   ]
  },
  {
   "cell_type": "markdown",
   "metadata": {},
   "source": [
    "## MinMax normalization"
   ]
  },
  {
   "cell_type": "markdown",
   "metadata": {},
   "source": [
    "Left models with early-stopping in the notebook, it gave better results."
   ]
  },
  {
   "cell_type": "code",
   "execution_count": 21,
   "metadata": {},
   "outputs": [
    {
     "name": "stdout",
     "output_type": "stream",
     "text": [
      "Accuracy score (val) - early stopping: 0.85533\n"
     ]
    }
   ],
   "source": [
    "ffnn_2 = forward_net2()\n",
    "optimizer_tmp = torch.optim.Adam(ffnn_2.parameters())\n",
    "# print('Accuracy score (val): {0:.5f}'.format(net_train(ffnn_2, training_loader_mm, validation_loader_mm, optimizer_tmp)))\n",
    "print('Accuracy score (val) - early stopping: {0:.5f}'.format(net_train_early_stopping(ffnn_2, training_loader_mm, validation_loader_mm, 'forwardNN/ffnn_2_mm.pt', optimizer_tmp)))"
   ]
  },
  {
   "cell_type": "code",
   "execution_count": 22,
   "metadata": {},
   "outputs": [
    {
     "name": "stdout",
     "output_type": "stream",
     "text": [
      "Accuracy score (val) - early stopping: 0.85210\n"
     ]
    }
   ],
   "source": [
    "ffnn_3 = forward_net3()\n",
    "optimizer_tmp = torch.optim.Adam(ffnn_3.parameters())\n",
    "# print('Accuracy score (val): {0:.5f}'.format(net_train(ffnn_3, training_loader_mm, validation_loader_mm, optimizer_tmp)))\n",
    "print('Accuracy score (val) - early stopping: {0:.5f}'.format(net_train_early_stopping(ffnn_3, training_loader_mm, validation_loader_mm, 'forwardNN/ffnn_3_mm.pt', optimizer_tmp)))"
   ]
  },
  {
   "cell_type": "code",
   "execution_count": 25,
   "metadata": {},
   "outputs": [
    {
     "name": "stdout",
     "output_type": "stream",
     "text": [
      "Accuracy score (val) - early stopping: 0.85524\n"
     ]
    }
   ],
   "source": [
    "ffnn_4 = forward_net4()\n",
    "optimizer_tmp = torch.optim.Adam(ffnn_4.parameters())\n",
    "# print('Accuracy score (val): {0:.5f}'.format(net_train(ffnn_4, training_loader_mm, validation_loader_mm, optimizer_tmp)))\n",
    "print('Accuracy score (val) - early stopping: {0:.5f}'.format(net_train_early_stopping(ffnn_4, training_loader_mm, validation_loader_mm, 'forwardNN/ffnn_4_mm.pt', optimizer_tmp)))"
   ]
  },
  {
   "cell_type": "markdown",
   "metadata": {},
   "source": [
    "Normalization improves models on average (more than standardization)."
   ]
  },
  {
   "cell_type": "markdown",
   "metadata": {},
   "source": [
    "## Optimalization methods"
   ]
  },
  {
   "cell_type": "markdown",
   "metadata": {},
   "source": [
    "Left models with early-stopping in the notebook, it gave better results. We will use normalization here since it improved our models."
   ]
  },
  {
   "cell_type": "code",
   "execution_count": 26,
   "metadata": {},
   "outputs": [
    {
     "name": "stdout",
     "output_type": "stream",
     "text": [
      "Adam optimizer (lr=0.005):\n",
      "Accuracy score (val) - early stopping: 0.84067\n",
      "\n",
      "Adam optimizer (lr=0.003):\n",
      "Accuracy score (val) - early stopping: 0.84600\n"
     ]
    }
   ],
   "source": [
    "ffnn_2 = forward_net2()\n",
    "optimizer_tmp = torch.optim.Adam(ffnn_2.parameters(), lr=0.005)\n",
    "print(\"Adam optimizer (lr=0.005):\")\n",
    "print('Accuracy score (val) - early stopping: {0:.5f}'.format(net_train_early_stopping(ffnn_2, training_loader_mm, validation_loader_mm, 'forwardNN/ffnn_2_mm_a1.pt', optimizer_tmp)))\n",
    "print('')\n",
    "ffnn_2 = forward_net2()\n",
    "optimizer_tmp = torch.optim.Adam(ffnn_2.parameters(), lr=0.003)\n",
    "print(\"Adam optimizer (lr=0.003):\")\n",
    "print('Accuracy score (val) - early stopping: {0:.5f}'.format(net_train_early_stopping(ffnn_2, training_loader_mm, validation_loader_mm, 'forwardNN/ffnn_2_mm_a2.pt', optimizer_tmp)))\n"
   ]
  },
  {
   "cell_type": "code",
   "execution_count": 13,
   "metadata": {},
   "outputs": [
    {
     "name": "stdout",
     "output_type": "stream",
     "text": [
      "SGD optimizer:\n",
      "Accuracy score (val) - early stopping: 0.71371\n"
     ]
    }
   ],
   "source": [
    "ffnn_2 = forward_net2()\n",
    "optimizer_tmp = torch.optim.SGD(ffnn_2.parameters())\n",
    "print(\"SGD optimizer:\")\n",
    "print('Accuracy score (val) - early stopping: {0:.5f}'.format(net_train_early_stopping(ffnn_2, training_loader_mm, validation_loader_mm, 'forwardNN/ffnn_2_mm_sgd.pt', optimizer_tmp)))"
   ]
  },
  {
   "cell_type": "code",
   "execution_count": 27,
   "metadata": {},
   "outputs": [
    {
     "name": "stdout",
     "output_type": "stream",
     "text": [
      "SGD optimizer (lr=0.01):\n",
      "Accuracy score (val) - early stopping: 0.83838\n",
      "\n",
      "SGD optimizer (lr=0.03):\n",
      "Accuracy score (val) - early stopping: 0.83886\n"
     ]
    }
   ],
   "source": [
    "ffnn_2 = forward_net2()\n",
    "optimizer_tmp = torch.optim.SGD(ffnn_2.parameters(), lr=0.01)\n",
    "print(\"SGD optimizer (lr=0.01):\")\n",
    "print('Accuracy score (val) - early stopping: {0:.5f}'.format(net_train_early_stopping(ffnn_2, training_loader_mm, validation_loader_mm, 'forwardNN/ffnn_2_mm_sgd1.pt', optimizer_tmp)))\n",
    "print('')\n",
    "ffnn_2 = forward_net2()\n",
    "optimizer_tmp = torch.optim.SGD(ffnn_2.parameters(), lr=0.03)\n",
    "print(\"SGD optimizer (lr=0.03):\")\n",
    "print('Accuracy score (val) - early stopping: {0:.5f}'.format(net_train_early_stopping(ffnn_2, training_loader_mm, validation_loader_mm, 'forwardNN/ffnn_2_mm_sgd2.pt', optimizer_tmp)))"
   ]
  },
  {
   "cell_type": "code",
   "execution_count": 28,
   "metadata": {},
   "outputs": [
    {
     "name": "stdout",
     "output_type": "stream",
     "text": [
      "Adam optimizer (lr=0.005):\n",
      "Accuracy score (val) - early stopping: 0.83438\n",
      "\n",
      "Adam optimizer (lr=0.003):\n",
      "Accuracy score (val) - early stopping: 0.85095\n"
     ]
    }
   ],
   "source": [
    "ffnn_3 = forward_net3()\n",
    "optimizer_tmp = torch.optim.Adam(ffnn_3.parameters(), lr=0.005)\n",
    "print(\"Adam optimizer (lr=0.005):\")\n",
    "print('Accuracy score (val) - early stopping: {0:.5f}'.format(net_train_early_stopping(ffnn_3, training_loader_mm, validation_loader_mm, 'forwardNN/ffnn_3_mm_a1.pt', optimizer_tmp)))\n",
    "print('')\n",
    "ffnn_3 = forward_net3()\n",
    "optimizer_tmp = torch.optim.Adam(ffnn_3.parameters(), lr=0.003)\n",
    "print(\"Adam optimizer (lr=0.003):\")\n",
    "print('Accuracy score (val) - early stopping: {0:.5f}'.format(net_train_early_stopping(ffnn_3, training_loader_mm, validation_loader_mm, 'forwardNN/ffnn_3_mm_a2.pt', optimizer_tmp)))\n"
   ]
  },
  {
   "cell_type": "code",
   "execution_count": 14,
   "metadata": {},
   "outputs": [
    {
     "name": "stdout",
     "output_type": "stream",
     "text": [
      "SGD optimizer:\n",
      "Accuracy score (val) - early stopping: 0.83686\n"
     ]
    }
   ],
   "source": [
    "ffnn_3 = forward_net3()\n",
    "optimizer_tmp = torch.optim.SGD(ffnn_3.parameters())\n",
    "print(\"SGD optimizer:\")\n",
    "print('Accuracy score (val) - early stopping: {0:.5f}'.format(net_train_early_stopping(ffnn_3, training_loader_mm, validation_loader_mm, 'forwardNN/ffnn_3_mm_sgd.pt', optimizer_tmp)))"
   ]
  },
  {
   "cell_type": "code",
   "execution_count": 29,
   "metadata": {},
   "outputs": [
    {
     "name": "stdout",
     "output_type": "stream",
     "text": [
      "SGD optimizer (lr=0.01):\n",
      "Accuracy score (val) - early stopping: 0.84514\n",
      "\n",
      "SGD optimizer (lr=0.03):\n",
      "Accuracy score (val) - early stopping: 0.85467\n"
     ]
    }
   ],
   "source": [
    "ffnn_3 = forward_net3()\n",
    "optimizer_tmp = torch.optim.SGD(ffnn_3.parameters(), lr=0.01)\n",
    "print(\"SGD optimizer (lr=0.01):\")\n",
    "print('Accuracy score (val) - early stopping: {0:.5f}'.format(net_train_early_stopping(ffnn_3, training_loader_mm, validation_loader_mm, 'forwardNN/ffnn_3_mm_sgd1.pt', optimizer_tmp)))\n",
    "print('')\n",
    "ffnn_3 = forward_net3()\n",
    "optimizer_tmp = torch.optim.SGD(ffnn_3.parameters(), lr=0.03)\n",
    "print(\"SGD optimizer (lr=0.03):\")\n",
    "print('Accuracy score (val) - early stopping: {0:.5f}'.format(net_train_early_stopping(ffnn_3, training_loader_mm, validation_loader_mm, 'forwardNN/ffnn_3_mm_sgd2.pt', optimizer_tmp)))"
   ]
  },
  {
   "cell_type": "code",
   "execution_count": 30,
   "metadata": {},
   "outputs": [
    {
     "name": "stdout",
     "output_type": "stream",
     "text": [
      "Adam optimizer (lr=0.005):\n",
      "Accuracy score (val) - early stopping: 0.82333\n",
      "\n",
      "Adam optimizer (lr=0.003):\n",
      "Accuracy score (val) - early stopping: 0.85190\n"
     ]
    }
   ],
   "source": [
    "ffnn_4 = forward_net4()\n",
    "optimizer_tmp = torch.optim.Adam(ffnn_4.parameters(), lr=0.005)\n",
    "print(\"Adam optimizer (lr=0.005):\")\n",
    "print('Accuracy score (val) - early stopping: {0:.5f}'.format(net_train_early_stopping(ffnn_4, training_loader_mm, validation_loader_mm, 'forwardNN/ffnn_4_mm_a1.pt', optimizer_tmp)))\n",
    "print('')\n",
    "ffnn_4 = forward_net4()\n",
    "optimizer_tmp = torch.optim.Adam(ffnn_4.parameters(), lr=0.003)\n",
    "print(\"Adam optimizer (lr=0.003):\")\n",
    "print('Accuracy score (val) - early stopping: {0:.5f}'.format(net_train_early_stopping(ffnn_4, training_loader_mm, validation_loader_mm, 'forwardNN/ffnn_4_mm_a2.pt', optimizer_tmp)))\n"
   ]
  },
  {
   "cell_type": "code",
   "execution_count": 13,
   "metadata": {},
   "outputs": [
    {
     "name": "stdout",
     "output_type": "stream",
     "text": [
      "SGD optimizer (lr=0.01):\n",
      "Accuracy score (val) - early stopping: 0.83800\n"
     ]
    }
   ],
   "source": [
    "ffnn_4 = forward_net4()\n",
    "optimizer_tmp = torch.optim.SGD(ffnn_4.parameters())\n",
    "print(\"SGD optimizer:\")\n",
    "print('Accuracy score (val) - early stopping: {0:.5f}'.format(net_train_early_stopping(ffnn_4, training_loader_mm, validation_loader_mm, 'forwardNN/ffnn_4_mm_sgd.pt', optimizer_tmp)))"
   ]
  },
  {
   "cell_type": "code",
   "execution_count": 31,
   "metadata": {},
   "outputs": [
    {
     "name": "stdout",
     "output_type": "stream",
     "text": [
      "SGD optimizer (lr=0.01):\n",
      "Accuracy score (val) - early stopping: 0.84343\n",
      "\n",
      "SGD optimizer (lr=0.03):\n",
      "Accuracy score (val) - early stopping: 0.84743\n"
     ]
    }
   ],
   "source": [
    "ffnn_4 = forward_net4()\n",
    "optimizer_tmp = torch.optim.SGD(ffnn_4.parameters(), lr=0.01)\n",
    "print(\"SGD optimizer (lr=0.01):\")\n",
    "print('Accuracy score (val) - early stopping: {0:.5f}'.format(net_train_early_stopping(ffnn_4, training_loader_mm, validation_loader_mm, 'forwardNN/ffnn_4_mm_sgd1.pt', optimizer_tmp)))\n",
    "print('')\n",
    "ffnn_4 = forward_net4()\n",
    "optimizer_tmp = torch.optim.SGD(ffnn_4.parameters(), lr=0.03)\n",
    "print(\"SGD optimizer (lr=0.03):\")\n",
    "print('Accuracy score (val) - early stopping: {0:.5f}'.format(net_train_early_stopping(ffnn_4, training_loader_mm, validation_loader_mm, 'forwardNN/ffnn_4_mm_sgd2.pt', optimizer_tmp)))"
   ]
  },
  {
   "cell_type": "markdown",
   "metadata": {},
   "source": [
    "Changing the learning rate (Adam optimizer) did not significantly help the models, the default setting (0.001) performed best. SGD also did not improve the models on average, generally performing slightly worse than Adam after learning rate tuning (0.03)."
   ]
  },
  {
   "cell_type": "markdown",
   "metadata": {},
   "source": [
    "# CNN"
   ]
  },
  {
   "cell_type": "markdown",
   "metadata": {},
   "source": [
    "Convolutional networks are very popular in image classification. Using convolution they can capture a pattern in images and it reduces complexity. Therefore, they capture better spatial information (e.g. the relationship of surrounding pixels). This type is more suitable than feedforward networks for this type of task."
   ]
  },
  {
   "cell_type": "code",
   "execution_count": 15,
   "metadata": {},
   "outputs": [],
   "source": [
    "# MaxPool2d - extracts the highest values ​​in the region\n",
    "\n",
    "# Two convolutional layers (RELU and MaxPool) + output layer (softmax)\n",
    "class conv_net2_1(nn.Module):\n",
    "    def __init__(self):\n",
    "        super().__init__()\n",
    "        self.conv1 = nn.Conv2d(in_channels = 1, out_channels = 40, kernel_size = 3).to(\"cuda\")\n",
    "        self.pool1 = nn.MaxPool2d(kernel_size = 2, stride = 2)\n",
    "        self.conv2 = nn.Conv2d(40, 16, 3).to(\"cuda\")\n",
    "        self.pool2 = nn.MaxPool2d(kernel_size = 2, stride = 2)\n",
    "        self.fco = nn.Linear(16*6*6, 10).to(\"cuda\")\n",
    "\n",
    "    def forward(self, x):\n",
    "        x = F.relu(self.conv1(x))\n",
    "        x = self.pool1(x)\n",
    "        x = F.relu(self.conv2(x))\n",
    "        x = self.pool2(x)\n",
    "        x = x.flatten(start_dim = 1)\n",
    "        x = self.fco(x)\n",
    "        return x\n",
    "\n",
    "# Two convolutional layers (RELU and MaxPool), dropout2d (after each) + two hidden layers (RELU), dropout (after 1st) + output layer (softmax)\n",
    "class conv_net2_2(nn.Module):\n",
    "    def __init__(self):\n",
    "        super().__init__()\n",
    "        self.conv1 = nn.Conv2d(in_channels = 1, out_channels = 32, kernel_size = 3).to(\"cuda\")\n",
    "        self.pool1 = nn.MaxPool2d(kernel_size = 2, stride = 2)\n",
    "        self.conv1_drop = nn.Dropout2d(p=0.2)\n",
    "        self.conv2 = nn.Conv2d(32, 64, 3).to(\"cuda\")\n",
    "        self.pool2 = nn.MaxPool2d(kernel_size = 2, stride = 2)\n",
    "        self.conv2_drop = nn.Dropout2d(p=0.2)\n",
    "        self.fc1 = nn.Linear(in_features=64*6*6, out_features=600).to(\"cuda\")\n",
    "        self.fc1_drop = nn.Dropout(0.2)\n",
    "        self.fc2 = nn.Linear(in_features=600, out_features=128).to(\"cuda\")\n",
    "        self.fco = nn.Linear(128, 10).to(\"cuda\")\n",
    "\n",
    "    def forward(self, x):\n",
    "        x = F.relu(self.conv1(x))\n",
    "        x = self.pool1(x)\n",
    "        x = self.conv1_drop(x)\n",
    "        x = F.relu(self.conv2(x))\n",
    "        x = self.pool2(x)\n",
    "        x = self.conv2_drop(x)\n",
    "        x = x.flatten(start_dim = 1)\n",
    "        x = F.relu(self.fc1(x))\n",
    "        x = self.fc1_drop(x)\n",
    "        x = F.relu(self.fc2(x))\n",
    "        x = self.fco(x)\n",
    "        return x\n",
    "\n",
    "# Two convolutional layers (RELU and MaxPool) + two hidden layers (RELU), dropout (after 1st) + output layer (softmax)\n",
    "class conv_net2_3(nn.Module):\n",
    "    def __init__(self):\n",
    "        super().__init__()\n",
    "        self.conv1 = nn.Conv2d(in_channels = 1, out_channels = 32, kernel_size = 3).to(\"cuda\")\n",
    "        self.pool1 = nn.MaxPool2d(kernel_size = 2, stride = 2)\n",
    "        self.conv2 = nn.Conv2d(32, 64, 3).to(\"cuda\")\n",
    "        self.pool2 = nn.MaxPool2d(kernel_size = 2, stride = 2)\n",
    "        self.fc1 = nn.Linear(in_features=64*6*6, out_features=600).to(\"cuda\")\n",
    "        self.fc1_drop = nn.Dropout(0.3)\n",
    "        self.fc2 = nn.Linear(in_features=600, out_features=128).to(\"cuda\")\n",
    "        self.fco = nn.Linear(128, 10).to(\"cuda\")\n",
    "\n",
    "    def forward(self, x):\n",
    "        x = F.relu(self.conv1(x))\n",
    "        x = self.pool1(x)\n",
    "        x = F.relu(self.conv2(x))\n",
    "        x = self.pool2(x)\n",
    "        x = x.flatten(start_dim = 1)\n",
    "        x = F.relu(self.fc1(x))\n",
    "        x = self.fc1_drop(x)\n",
    "        x = F.relu(self.fc2(x))\n",
    "        x = self.fco(x)\n",
    "        return x\n",
    "\n",
    "# Three convolutional layers (RELU and MaxPool) + output layer (softmax)\n",
    "class conv_net3_1(nn.Module):\n",
    "    def __init__(self):\n",
    "        super().__init__()\n",
    "        self.conv1 = nn.Conv2d(in_channels = 1, out_channels = 32, kernel_size = 3).to(\"cuda\")\n",
    "        self.pool1 = nn.MaxPool2d(kernel_size = 2, stride = 2)\n",
    "        self.conv2 = nn.Conv2d(32, 32, 3).to(\"cuda\")\n",
    "        self.pool2 = nn.MaxPool2d(kernel_size = 2, stride = 2)\n",
    "        self.conv3 = nn.Conv2d(32, 64, 3).to(\"cuda\")\n",
    "        self.pool3 = nn.MaxPool2d(kernel_size = 2, stride = 2)\n",
    "        self.fc1 = nn.Linear(64*2*2, 128).to(\"cuda\")\n",
    "        self.fco = nn.Linear(128, 10).to(\"cuda\")\n",
    "\n",
    "    def forward(self, x):\n",
    "        x = F.relu(self.conv1(x))\n",
    "        x = self.pool1(x)\n",
    "        x = F.relu(self.conv2(x))\n",
    "        x = self.pool2(x)\n",
    "        x = F.relu(self.conv3(x))\n",
    "        x = self.pool3(x)\n",
    "        x = x.flatten(start_dim = 1)\n",
    "        x = F.relu(self.fc1(x))\n",
    "        x = self.fco(x)\n",
    "        return x\n",
    "\n",
    "# Three convolutional layers (RELU and MaxPool), dropout2d (after each) + one hidden layer (RELU) + output layer (softmax)\n",
    "class conv_net3_2(nn.Module):\n",
    "    def __init__(self):\n",
    "        super().__init__()\n",
    "        self.conv1 = nn.Conv2d(in_channels = 1, out_channels = 32, kernel_size = 3).to(\"cuda\")\n",
    "        self.pool1 = nn.MaxPool2d(kernel_size = 2, stride = 2)\n",
    "        self.conv1_drop = nn.Dropout2d(p=0.2)\n",
    "        self.conv2 = nn.Conv2d(32, 32, 3).to(\"cuda\")\n",
    "        self.pool2 = nn.MaxPool2d(kernel_size = 2, stride = 2)\n",
    "        self.conv2_drop = nn.Dropout2d(p=0.2)\n",
    "        self.conv3 = nn.Conv2d(32, 64, 3).to(\"cuda\")\n",
    "        self.pool3 = nn.MaxPool2d(kernel_size = 2, stride = 2)\n",
    "        self.conv3_drop = nn.Dropout2d(p=0.2)\n",
    "        self.fc1 = nn.Linear(64*2*2, 128).to(\"cuda\")\n",
    "        self.fco = nn.Linear(128, 10).to(\"cuda\")\n",
    "\n",
    "    def forward(self, x):\n",
    "        x = F.relu(self.conv1(x))\n",
    "        x = self.pool1(x)\n",
    "        x = self.conv1_drop(x)\n",
    "        x = F.relu(self.conv2(x))\n",
    "        x = self.pool2(x)\n",
    "        x = self.conv2_drop(x)\n",
    "        x = F.relu(self.conv3(x))\n",
    "        x = self.pool3(x)\n",
    "        x = self.conv3_drop(x)\n",
    "        x = x.flatten(start_dim = 1)\n",
    "        x = F.relu(self.fc1(x))\n",
    "        x = self.fco(x)\n",
    "        return x\n",
    "\n",
    "# Three convolutional layers (RELU and MaxPool), dropout2d (after each) + one hidden layer (RELU), dropout + output layer (softmax)\n",
    "class conv_net3_3(nn.Module):\n",
    "    def __init__(self):\n",
    "        super().__init__()\n",
    "        self.conv1 = nn.Conv2d(in_channels = 1, out_channels = 32, kernel_size = 3).to(\"cuda\")\n",
    "        self.pool1 = nn.MaxPool2d(kernel_size = 2, stride = 2)\n",
    "        self.conv1_drop = nn.Dropout2d(p=0.2)\n",
    "        self.conv2 = nn.Conv2d(32, 32, 3).to(\"cuda\")\n",
    "        self.pool2 = nn.MaxPool2d(kernel_size = 2, stride = 2)\n",
    "        self.conv2_drop = nn.Dropout2d(p=0.2)\n",
    "        self.conv3 = nn.Conv2d(32, 64, 3).to(\"cuda\")\n",
    "        self.pool3 = nn.MaxPool2d(kernel_size = 2, stride = 2)\n",
    "        self.conv3_drop = nn.Dropout2d(p=0.2)\n",
    "        self.fc1 = nn.Linear(64*2*2, 128).to(\"cuda\")\n",
    "        self.fc1_drop = nn.Dropout(0.2)\n",
    "        self.fco = nn.Linear(128, 10).to(\"cuda\")\n",
    "\n",
    "    def forward(self, x):\n",
    "        x = F.relu(self.conv1(x))\n",
    "        x = self.pool1(x)\n",
    "        x = self.conv1_drop(x)\n",
    "        x = F.relu(self.conv2(x))\n",
    "        x = self.pool2(x)\n",
    "        x = self.conv2_drop(x)\n",
    "        x = F.relu(self.conv3(x))\n",
    "        x = self.pool3(x)\n",
    "        x = self.conv3_drop(x)\n",
    "        x = x.flatten(start_dim = 1)\n",
    "        x = F.relu(self.fc1(x))\n",
    "        x = self.fc1_drop(x)\n",
    "        x = self.fco(x)\n",
    "        return x\n"
   ]
  },
  {
   "cell_type": "markdown",
   "metadata": {},
   "source": [
    "In general, models with early-stopping regularization performed better, leaving models with early-stopping in the notebook."
   ]
  },
  {
   "cell_type": "markdown",
   "metadata": {},
   "source": [
    "## Original data"
   ]
  },
  {
   "cell_type": "markdown",
   "metadata": {},
   "source": [
    "We will use Adam optimizer."
   ]
  },
  {
   "cell_type": "code",
   "execution_count": 17,
   "metadata": {},
   "outputs": [
    {
     "name": "stdout",
     "output_type": "stream",
     "text": [
      "Accuracy score (val): 0.84676\n",
      "Accuracy score (val) - early stopping: 0.84686\n"
     ]
    }
   ],
   "source": [
    "cvn2_1 = conv_net2_1()\n",
    "optimizer_tmp = torch.optim.Adam(cvn2_1.parameters())\n",
    "print('Accuracy score (val): {0:.5f}'.format(net_train(cvn2_1, training_loader, validation_loader, optimizer_tmp)))\n",
    "print('Accuracy score (val) - early stopping: {0:.5f}'.format(net_train_early_stopping(cvn2_1, training_loader, validation_loader, 'conv_models/cvn2_1.pt', optimizer_tmp)))"
   ]
  },
  {
   "cell_type": "code",
   "execution_count": 28,
   "metadata": {},
   "outputs": [
    {
     "name": "stdout",
     "output_type": "stream",
     "text": [
      "Accuracy score (val): 0.88200\n",
      "Accuracy score (val) - early stopping: 0.88571\n"
     ]
    }
   ],
   "source": [
    "cvn2_2 = conv_net2_2()\n",
    "optimizer_tmp = torch.optim.Adam(cvn2_2.parameters())\n",
    "print('Accuracy score (val): {0:.5f}'.format(net_train(cvn2_2, training_loader, validation_loader, optimizer_tmp)))\n",
    "print('Accuracy score (val) - early stopping: {0:.5f}'.format(net_train_early_stopping(cvn2_2, training_loader, validation_loader, 'conv_models/cvn2_2.pt', optimizer_tmp, True)))"
   ]
  },
  {
   "cell_type": "code",
   "execution_count": 29,
   "metadata": {},
   "outputs": [
    {
     "name": "stdout",
     "output_type": "stream",
     "text": [
      "Accuracy score (val) - early stopping: 0.88105\n"
     ]
    }
   ],
   "source": [
    "cvn2_3 = conv_net2_3()\n",
    "optimizer_tmp = torch.optim.Adam(cvn2_3.parameters())\n",
    "# print('Accuracy score (val): {0:.5f}'.format(net_train(cvn2_3, training_loader, validation_loader, optimizer_tmp)))\n",
    "print('Accuracy score (val) - early stopping: {0:.5f}'.format(net_train_early_stopping(cvn2_3, training_loader, validation_loader, 'conv_models/cvn2_3.pt', optimizer_tmp, True)))"
   ]
  },
  {
   "cell_type": "code",
   "execution_count": 18,
   "metadata": {},
   "outputs": [
    {
     "name": "stdout",
     "output_type": "stream",
     "text": [
      "Accuracy score (val) - early stopping: 0.87410\n"
     ]
    }
   ],
   "source": [
    "cvn3_1 = conv_net3_1()\n",
    "optimizer_tmp = torch.optim.Adam(cvn3_1.parameters())\n",
    "# print('Accuracy score (val): {0:.5f}'.format(net_train(cvn3_1, training_loader, validation_loader, optimizer_tmp)))\n",
    "print('Accuracy score (val) - early stopping: {0:.5f}'.format(net_train_early_stopping(cvn3_1, training_loader, validation_loader, 'conv_models/cvn3_1.pt', optimizer_tmp)))"
   ]
  },
  {
   "cell_type": "code",
   "execution_count": 21,
   "metadata": {},
   "outputs": [
    {
     "name": "stdout",
     "output_type": "stream",
     "text": [
      "Accuracy score (val) - early stopping: 0.87629\n"
     ]
    }
   ],
   "source": [
    "cvn3_2 = conv_net3_2()\n",
    "optimizer_tmp = torch.optim.Adam(cvn3_2.parameters())\n",
    "# print('Accuracy score (val): {0:.5f}'.format(net_train(cvn3_2, training_loader, validation_loader, optimizer_tmp)))\n",
    "print('Accuracy score (val) - early stopping: {0:.5f}'.format(net_train_early_stopping(cvn3_2, training_loader, validation_loader, 'conv_models/cnv3_2.pt', optimizer_tmp)))"
   ]
  },
  {
   "cell_type": "code",
   "execution_count": 22,
   "metadata": {},
   "outputs": [
    {
     "name": "stdout",
     "output_type": "stream",
     "text": [
      "Accuracy score (val) - early stopping: 0.87352\n"
     ]
    }
   ],
   "source": [
    "cvn3_3 = conv_net3_3()\n",
    "optimizer_tmp = torch.optim.Adam(cvn3_3.parameters())\n",
    "# print('Accuracy score (val): {0:.5f}'.format(net_train(cvn3_2, training_loader, validation_loader, optimizer_tmp)))\n",
    "print('Accuracy score (val) - early stopping: {0:.5f}'.format(net_train_early_stopping(cvn3_3, training_loader, validation_loader, 'conv_models/cvn3_3.pt', optimizer_tmp)))"
   ]
  },
  {
   "cell_type": "markdown",
   "metadata": {},
   "source": [
    "The first basic model performed the worst. More complex models performed noticeably better and had good results. The best model was generally cvn2_2 (i.e. 2 convolutional layers with dropout and 2 hidden layers with dropout after 1st)."
   ]
  },
  {
   "cell_type": "markdown",
   "metadata": {},
   "source": [
    "We will continue with only selected models that generally performed the best."
   ]
  },
  {
   "cell_type": "markdown",
   "metadata": {},
   "source": [
    "## Standardization"
   ]
  },
  {
   "cell_type": "code",
   "execution_count": 24,
   "metadata": {},
   "outputs": [
    {
     "name": "stdout",
     "output_type": "stream",
     "text": [
      "Accuracy score (val) - early stopping: 0.89467\n"
     ]
    }
   ],
   "source": [
    "cvn2_2 = conv_net2_2()\n",
    "optimizer_tmp = torch.optim.Adam(cvn2_2.parameters())\n",
    "# print('Accuracy score (val): {0:.5f}'.format(net_train(cvn2_2, training_loader_stand, validation_loader_stand, optimizer_tmp)))\n",
    "print('Accuracy score (val) - early stopping: {0:.5f}'.format(net_train_early_stopping(cvn2_2, training_loader_stand, validation_loader_stand, 'conv_models/cvn2_2_stand.pt', optimizer_tmp)))"
   ]
  },
  {
   "cell_type": "code",
   "execution_count": 25,
   "metadata": {},
   "outputs": [
    {
     "name": "stdout",
     "output_type": "stream",
     "text": [
      "Accuracy score (val) - early stopping: 0.88895\n"
     ]
    }
   ],
   "source": [
    "cvn2_3 = conv_net2_3()\n",
    "optimizer_tmp = torch.optim.Adam(cvn2_3.parameters())\n",
    "# print('Accuracy score (val): {0:.5f}'.format(net_train(cvn2_3, training_loader_stand, validation_loader_stand, optimizer_tmp)))\n",
    "print('Accuracy score (val) - early stopping: {0:.5f}'.format(net_train_early_stopping(cvn2_3, training_loader_stand, validation_loader_stand, 'conv_models/cvn2_3_stand.pt', optimizer_tmp)))"
   ]
  },
  {
   "cell_type": "code",
   "execution_count": 26,
   "metadata": {},
   "outputs": [
    {
     "name": "stdout",
     "output_type": "stream",
     "text": [
      "Accuracy score (val) - early stopping: 0.88819\n"
     ]
    }
   ],
   "source": [
    "cvn3_2 = conv_net3_2()\n",
    "optimizer_tmp = torch.optim.Adam(cvn3_2.parameters())\n",
    "# print('Accuracy score (val): {0:.5f}'.format(net_train(cvn3_2, training_loader_stand, validation_loader_stand, optimizer_tmp)))\n",
    "print('Accuracy score (val) - early stopping: {0:.5f}'.format(net_train_early_stopping(cvn3_2, training_loader_stand, validation_loader_stand, 'conv_models/cnv3_2_stand.pt', optimizer_tmp)))"
   ]
  },
  {
   "cell_type": "markdown",
   "metadata": {},
   "source": [
    "Standardization slightly improved our models on average. We are hovering around 89%."
   ]
  },
  {
   "cell_type": "markdown",
   "metadata": {},
   "source": [
    "## MinMax normalization"
   ]
  },
  {
   "cell_type": "code",
   "execution_count": 19,
   "metadata": {},
   "outputs": [
    {
     "name": "stdout",
     "output_type": "stream",
     "text": [
      "Accuracy score (val) - early stopping: 0.89552\n"
     ]
    }
   ],
   "source": [
    "cvn2_2 = conv_net2_2()\n",
    "optimizer_tmp = torch.optim.Adam(cvn2_2.parameters())\n",
    "# print('Accuracy score (val): {0:.5f}'.format(net_train(cvn2_2, training_loader_mm, validation_loader_mm, optimizer_tmp)))\n",
    "print('Accuracy score (val) - early stopping: {0:.5f}'.format(net_train_early_stopping(cvn2_2, training_loader_mm, validation_loader_mm, 'conv_models/cvn2_2_mm.pt', optimizer_tmp, True)))"
   ]
  },
  {
   "cell_type": "code",
   "execution_count": 35,
   "metadata": {},
   "outputs": [
    {
     "name": "stdout",
     "output_type": "stream",
     "text": [
      "Accuracy score (val) - early stopping: 0.89724\n"
     ]
    }
   ],
   "source": [
    "cvn2_3 = conv_net2_3()\n",
    "optimizer_tmp = torch.optim.Adam(cvn2_3.parameters())\n",
    "# print('Accuracy score (val): {0:.5f}'.format(net_train(cvn2_3, training_loader_mm, validation_loader_mm, optimizer_tmp)))\n",
    "print('Accuracy score (val) - early stopping: {0:.5f}'.format(net_train_early_stopping(cvn2_3, training_loader_mm, validation_loader_mm, 'conv_models/cvn2_3_mm.pt', optimizer_tmp, True)))"
   ]
  },
  {
   "cell_type": "code",
   "execution_count": 26,
   "metadata": {},
   "outputs": [
    {
     "name": "stdout",
     "output_type": "stream",
     "text": [
      "Accuracy score (val) - early stopping: 0.89429\n"
     ]
    }
   ],
   "source": [
    "cvn3_2 = conv_net3_2()\n",
    "optimizer_tmp = torch.optim.Adam(cvn3_2.parameters())\n",
    "# print('Accuracy score (val): {0:.5f}'.format(net_train(cvn3_2, training_loader_mm, validation_loader_mm, optimizer_tmp)))\n",
    "print('Accuracy score (val) - early stopping: {0:.5f}'.format(net_train_early_stopping(cvn3_2, training_loader_mm, validation_loader_mm, 'conv_models/cnv3_2_mm.pt', optimizer_tmp, True)))"
   ]
  },
  {
   "cell_type": "markdown",
   "metadata": {},
   "source": [
    "Here too, normalization improves the models on average (more than standardization). We are hovering around 89%.\n",
    "\n",
    "Cvn2_3 (2 convolutional layers and 2 hidden with dropout after 1) achieved a very good 90% accuracy."
   ]
  },
  {
   "cell_type": "markdown",
   "metadata": {},
   "source": [
    "## Optimalization methods"
   ]
  },
  {
   "cell_type": "markdown",
   "metadata": {},
   "source": [
    "Left models with early-stopping in the notebook, it gave better results. We will also use normalization here, as it improved our models."
   ]
  },
  {
   "cell_type": "code",
   "execution_count": 18,
   "metadata": {},
   "outputs": [
    {
     "name": "stdout",
     "output_type": "stream",
     "text": [
      "Adam optimizer (lr=0.005):\n",
      "Accuracy score (val) - early stopping: 0.87076\n",
      "\n",
      "Adam optimizer (lr=0.003):\n",
      "Accuracy score (val) - early stopping: 0.88771\n"
     ]
    }
   ],
   "source": [
    "cvn2_2 = conv_net2_2()\n",
    "optimizer_tmp = torch.optim.Adam(cvn2_2.parameters(), lr=0.005)\n",
    "print(\"Adam optimizer (lr=0.005):\")\n",
    "print('Accuracy score (val) - early stopping: {0:.5f}'.format(net_train_early_stopping(cvn2_2, training_loader_mm, validation_loader_mm, 'conv_models/cvn2_2_mm_a1.pt', optimizer_tmp)))\n",
    "print('')\n",
    "cvn2_2 = conv_net2_2()\n",
    "optimizer_tmp = torch.optim.Adam(cvn2_2.parameters(), lr=0.003)\n",
    "print(\"Adam optimizer (lr=0.003):\")\n",
    "print('Accuracy score (val) - early stopping: {0:.5f}'.format(net_train_early_stopping(cvn2_2, training_loader_mm, validation_loader_mm, 'conv_models/cvn2_2_mm_a1.pt', optimizer_tmp)))\n"
   ]
  },
  {
   "cell_type": "code",
   "execution_count": 19,
   "metadata": {},
   "outputs": [
    {
     "name": "stdout",
     "output_type": "stream",
     "text": [
      "SGD optimizer:\n",
      "Accuracy score (val) - early stopping: 0.75248\n",
      "\n",
      "SGD optimizer (lr=0.01):\n",
      "Accuracy score (val) - early stopping: 0.87000\n",
      "\n",
      "SGD optimizer (lr=0.03):\n",
      "Accuracy score (val) - early stopping: 0.88590\n"
     ]
    }
   ],
   "source": [
    "cvn2_2 = conv_net2_2()\n",
    "optimizer_tmp = torch.optim.SGD(cvn2_2.parameters())\n",
    "print(\"SGD optimizer:\")\n",
    "print('Accuracy score (val) - early stopping: {0:.5f}'.format(net_train_early_stopping(cvn2_2, training_loader_mm, validation_loader_mm, 'conv_models/cvn2_2_mm_sgd.pt', optimizer_tmp)))\n",
    "print('')\n",
    "cvn2_2 = conv_net2_2()\n",
    "optimizer_tmp = torch.optim.SGD(cvn2_2.parameters(), lr=0.01)\n",
    "print(\"SGD optimizer (lr=0.01):\")\n",
    "print('Accuracy score (val) - early stopping: {0:.5f}'.format(net_train_early_stopping(cvn2_2, training_loader_mm, validation_loader_mm, 'conv_models/cvn2_2_mm_sgd1.pt', optimizer_tmp)))\n",
    "print('')\n",
    "cvn2_2 = conv_net2_2()\n",
    "optimizer_tmp = torch.optim.SGD(cvn2_2.parameters(), lr=0.03)\n",
    "print(\"SGD optimizer (lr=0.03):\")\n",
    "print('Accuracy score (val) - early stopping: {0:.5f}'.format(net_train_early_stopping(cvn2_2, training_loader_mm, validation_loader_mm, 'conv_models/cvn2_2_mm_sgd2.pt', optimizer_tmp)))"
   ]
  },
  {
   "cell_type": "code",
   "execution_count": 16,
   "metadata": {},
   "outputs": [
    {
     "name": "stdout",
     "output_type": "stream",
     "text": [
      "Adam optimizer (lr=0.005):\n",
      "Accuracy score (val) - early stopping: 0.87876\n",
      "\n",
      "Adam optimizer (lr=0.003):\n",
      "Accuracy score (val) - early stopping: 0.88952\n"
     ]
    }
   ],
   "source": [
    "cvn2_3 = conv_net2_3()\n",
    "optimizer_tmp = torch.optim.Adam(cvn2_3.parameters(), lr=0.005)\n",
    "print(\"Adam optimizer (lr=0.005):\")\n",
    "print('Accuracy score (val) - early stopping: {0:.5f}'.format(net_train_early_stopping(cvn2_3, training_loader_mm, validation_loader_mm, 'conv_models/cvn2_3_mm_a1.pt', optimizer_tmp)))\n",
    "print('')\n",
    "cvn2_3 = conv_net2_3()\n",
    "optimizer_tmp = torch.optim.Adam(cvn2_3.parameters(), lr=0.003)\n",
    "print(\"Adam optimizer (lr=0.003):\")\n",
    "print('Accuracy score (val) - early stopping: {0:.5f}'.format(net_train_early_stopping(cvn2_3, training_loader_mm, validation_loader_mm, 'conv_models/cvn2_3_mm_a2.pt', optimizer_tmp)))"
   ]
  },
  {
   "cell_type": "code",
   "execution_count": 25,
   "metadata": {},
   "outputs": [
    {
     "name": "stdout",
     "output_type": "stream",
     "text": [
      "SGD optimizer:\n",
      "Accuracy score (val) - early stopping: 0.77076\n",
      "\n",
      "SGD optimizer (lr=0.01):\n",
      "Accuracy score (val) - early stopping: 0.87057\n",
      "\n",
      "SGD optimizer (lr=0.03):\n",
      "Accuracy score (val) - early stopping: 0.89305\n"
     ]
    }
   ],
   "source": [
    "cvn2_3 = conv_net2_3()\n",
    "optimizer_tmp = torch.optim.SGD(cvn2_3.parameters())\n",
    "print(\"SGD optimizer:\")\n",
    "print('Accuracy score (val) - early stopping: {0:.5f}'.format(net_train_early_stopping(cvn2_3, training_loader_mm, validation_loader_mm, 'conv_models/cvn2_3_mm_sgd.pt', optimizer_tmp)))\n",
    "print('')\n",
    "cvn2_3 = conv_net2_3()\n",
    "optimizer_tmp = torch.optim.SGD(cvn2_3.parameters(), lr=0.01)\n",
    "print(\"SGD optimizer (lr=0.01):\")\n",
    "print('Accuracy score (val) - early stopping: {0:.5f}'.format(net_train_early_stopping(cvn2_3, training_loader_mm, validation_loader_mm, 'conv_models/cvn2_3_mm_sgd1.pt', optimizer_tmp)))\n",
    "print('')\n",
    "cvn2_3 = conv_net2_3()\n",
    "optimizer_tmp = torch.optim.SGD(cvn2_3.parameters(), lr=0.03)\n",
    "print(\"SGD optimizer (lr=0.03):\")\n",
    "print('Accuracy score (val) - early stopping: {0:.5f}'.format(net_train_early_stopping(cvn2_3, training_loader_mm, validation_loader_mm, 'conv_models/cvn2_3_mm_sgd2.pt', optimizer_tmp)))"
   ]
  },
  {
   "cell_type": "code",
   "execution_count": 14,
   "metadata": {},
   "outputs": [
    {
     "name": "stdout",
     "output_type": "stream",
     "text": [
      "Adam optimizer (lr=0.005):\n",
      "Accuracy score (val) - early stopping: 0.85781\n",
      "\n",
      "Adam optimizer (lr=0.003):\n",
      "Accuracy score (val) - early stopping: 0.87886\n"
     ]
    }
   ],
   "source": [
    "cvn3_2 = conv_net3_2()\n",
    "optimizer_tmp = torch.optim.Adam(cvn3_2.parameters(), lr=0.005)\n",
    "print(\"Adam optimizer (lr=0.005):\")\n",
    "print('Accuracy score (val) - early stopping: {0:.5f}'.format(net_train_early_stopping(cvn3_2, training_loader_mm, validation_loader_mm, 'conv_models/cvn3_2_mm_a1.pt', optimizer_tmp)))\n",
    "print('')\n",
    "cvn3_2 = conv_net3_2()\n",
    "optimizer_tmp = torch.optim.Adam(cvn3_2.parameters(), lr=0.003)\n",
    "print(\"Adam optimizer (lr=0.003):\")\n",
    "print('Accuracy score (val) - early stopping: {0:.5f}'.format(net_train_early_stopping(cvn3_2, training_loader_mm, validation_loader_mm, 'conv_models/cvn3_2_mm_a2.pt', optimizer_tmp)))\n"
   ]
  },
  {
   "cell_type": "code",
   "execution_count": 15,
   "metadata": {},
   "outputs": [
    {
     "name": "stdout",
     "output_type": "stream",
     "text": [
      "SGD optimizer:\n",
      "Accuracy score (val) - early stopping: 0.73210\n",
      "\n",
      "SGD optimizer (lr=0.01):\n",
      "Accuracy score (val) - early stopping: 0.84067\n",
      "\n",
      "SGD optimizer (lr=0.03):\n",
      "Accuracy score (val) - early stopping: 0.87819\n"
     ]
    }
   ],
   "source": [
    "cvn3_2 = conv_net3_2()\n",
    "optimizer_tmp = torch.optim.SGD(cvn3_2.parameters())\n",
    "print(\"SGD optimizer:\")\n",
    "print('Accuracy score (val) - early stopping: {0:.5f}'.format(net_train_early_stopping(cvn3_2, training_loader_mm, validation_loader_mm, 'conv_models/cvn3_2_mm_sgd.pt', optimizer_tmp)))\n",
    "print('')\n",
    "cvn3_2 = conv_net3_2()\n",
    "optimizer_tmp = torch.optim.SGD(cvn3_2.parameters(), lr=0.01)\n",
    "print(\"SGD optimizer (lr=0.01):\")\n",
    "print('Accuracy score (val) - early stopping: {0:.5f}'.format(net_train_early_stopping(cvn3_2, training_loader_mm, validation_loader_mm, 'conv_models/cvn3_2_mm_sgd1.pt', optimizer_tmp)))\n",
    "print('')\n",
    "cvn3_2 = conv_net3_2()\n",
    "optimizer_tmp = torch.optim.SGD(cvn3_2.parameters(), lr=0.03)\n",
    "print(\"SGD optimizer (lr=0.03):\")\n",
    "print('Accuracy score (val) - early stopping: {0:.5f}'.format(net_train_early_stopping(cvn3_2, training_loader_mm, validation_loader_mm, 'conv_models/cvn3_2_mm_sgd2.pt', optimizer_tmp)))"
   ]
  },
  {
   "cell_type": "markdown",
   "metadata": {},
   "source": [
    "I did not notice an improvement of the models when tuning the learning rate of the Adam optimizer (compared to the default 0.001). SGD performed worse than Adam even when tuning the learning rate."
   ]
  },
  {
   "cell_type": "markdown",
   "metadata": {},
   "source": [
    "# Summary"
   ]
  },
  {
   "cell_type": "markdown",
   "metadata": {},
   "source": [
    "CNNs performed significantly better than FNNs. Normalization/standardization helped the models (mainly normalization). For optimization methods, Adam performed best with default settings. Regularization (early-stopping and dropout) helped the models."
   ]
  },
  {
   "cell_type": "markdown",
   "metadata": {},
   "source": [
    "# Final model"
   ]
  },
  {
   "cell_type": "markdown",
   "metadata": {},
   "source": [
    "As the final model, we choose the model that generally performed the best, which is the cvn2_3 CNN with MinMax normalization, early-stopping and the default Adam optimizer.\n",
    "\n",
    "Cvn2_3: two convolutional layers (RELU and MaxPool) + two hidden layers (RELU), dropout (after 1st) + output layer"
   ]
  },
  {
   "cell_type": "code",
   "execution_count": 36,
   "metadata": {},
   "outputs": [],
   "source": [
    "final_model = conv_net2_3()\n",
    "final_model.load_state_dict(torch.load('conv_models/cvn2_3_mm.pt'))\n",
    "_ = final_model.train(False)"
   ]
  },
  {
   "cell_type": "markdown",
   "metadata": {},
   "source": [
    "The expected accuracy of this model on new data is around 89.2%."
   ]
  },
  {
   "cell_type": "code",
   "execution_count": 37,
   "metadata": {},
   "outputs": [
    {
     "name": "stdout",
     "output_type": "stream",
     "text": [
      "Test accuracy: 0.892\n"
     ]
    }
   ],
   "source": [
    "get_acc(final_model, test_data_mm, test_loader_mm)"
   ]
  },
  {
   "cell_type": "code",
   "execution_count": null,
   "metadata": {},
   "outputs": [],
   "source": []
  }
 ],
 "metadata": {
  "kernelspec": {
   "display_name": "Python 3 (ipykernel)",
   "language": "python",
   "name": "python3"
  },
  "language_info": {
   "codemirror_mode": {
    "name": "ipython",
    "version": 3
   },
   "file_extension": ".py",
   "mimetype": "text/x-python",
   "name": "python",
   "nbconvert_exporter": "python",
   "pygments_lexer": "ipython3",
   "version": "3.10.12"
  }
 },
 "nbformat": 4,
 "nbformat_minor": 4
}
