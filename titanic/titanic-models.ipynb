{
 "cells": [
  {
   "cell_type": "markdown",
   "id": "214aa864-2f92-41b4-a2db-4c08e0232aa8",
   "metadata": {},
   "source": [
    "# Titanic survival prediction\n",
    "Project for machine learning basics. Models used will be decision tree and KNN algorithm. Training dataset is in data.csv.\n",
    "\n",
    "## Features\n",
    "* survived - whether the passenger survived (0 = No, 1 = Yes), **the target variable**\n",
    "* pclass - ticket class\n",
    "* name\n",
    "* sex\n",
    "* age\n",
    "* sibsp - number of siblings/partners on board\n",
    "* parch - number of parents/children on board\n",
    "* ticket\n",
    "* fare\n",
    "* embarked - from where, C = Cherbourg, Q = Queenstown, S = Southampton\n",
    "* home.dest"
   ]
  },
  {
   "cell_type": "code",
   "execution_count": 1,
   "id": "003f7995-4bc0-42d8-a9ac-456638cdd708",
   "metadata": {},
   "outputs": [],
   "source": [
    "import pandas as pd\n",
    "import numpy as np\n",
    "\n",
    "import sklearn.metrics as metrics\n",
    "from sklearn.tree import DecisionTreeClassifier\n",
    "from sklearn.model_selection import train_test_split, ParameterGrid\n",
    "from sklearn.neighbors import KNeighborsClassifier\n",
    "\n",
    "import matplotlib.pyplot as plt\n",
    "import matplotlib"
   ]
  },
  {
   "cell_type": "markdown",
   "id": "68f7a9ed",
   "metadata": {},
   "source": [
    "## Functions"
   ]
  },
  {
   "cell_type": "code",
   "execution_count": 2,
   "id": "73229705",
   "metadata": {},
   "outputs": [],
   "source": [
    "fill = {\n",
    "    'age': 0,\n",
    "    'fare': 0\n",
    "}"
   ]
  },
  {
   "cell_type": "code",
   "execution_count": 3,
   "id": "64a4c926",
   "metadata": {},
   "outputs": [],
   "source": [
    "#Convert columns with object dtype into category dtypes and giving them a numeric value\n",
    "#Missing values are by default given a value of -1\n",
    "def convert_to_cat (df):\n",
    "    string_cols = df.select_dtypes(['object']).columns\n",
    "    df[string_cols] = df[string_cols].astype('category').apply(lambda x: x.cat.codes)\n",
    "    \n",
    "    return df"
   ]
  },
  {
   "cell_type": "code",
   "execution_count": 4,
   "id": "50da2dbc-591a-4611-94f8-d93145197ef5",
   "metadata": {},
   "outputs": [],
   "source": [
    "#Fill in missing continuous values. For age we fill in with the average age and for the 'fare' column we use a median, \n",
    "#both values are from the training set\n",
    "def fill_missing_cont (df):\n",
    "    df['age'] = df['age'].replace(np.nan, fill['age'])\n",
    "    df['fare'] = df['fare'].replace(np.nan, fill['fare'])\n",
    "    \n",
    "    return df"
   ]
  },
  {
   "cell_type": "markdown",
   "id": "abe540ac",
   "metadata": {},
   "source": [
    "Tested MinMaxScaler and StandardScaler from scikit and they didn't yield better results."
   ]
  },
  {
   "cell_type": "code",
   "execution_count": 5,
   "id": "1b5166fb",
   "metadata": {},
   "outputs": [],
   "source": [
    "#We normalize columns for the KNN method so each value is in the interval [0, 1].\n",
    "#We use a method from lectures: replace a value with ((value-min_value)/(max_value-min_value))\n",
    "def normalize_df (df):\n",
    "    string_cols = df.columns\n",
    "    \n",
    "    for col in string_cols:\n",
    "        max_val = df[col].max()\n",
    "        min_val = df[col].min()\n",
    "        \n",
    "        df[col] = df[col] - min_val\n",
    "        df[col] = df[col].div(max_val - min_val)\n",
    "    \n",
    "    return df"
   ]
  },
  {
   "cell_type": "code",
   "execution_count": 6,
   "id": "89b5d824",
   "metadata": {},
   "outputs": [],
   "source": [
    "#Transform the dataframe into workable state (with functions mentioned above).\n",
    "def transform_df (df):\n",
    "    df.drop(['cabin', 'home.dest', 'ID'], axis=1, inplace=True)\n",
    "    df = convert_to_cat(df)\n",
    "    df = fill_missing_cont(df)\n",
    "    \n",
    "    return df"
   ]
  },
  {
   "cell_type": "markdown",
   "id": "1c387439",
   "metadata": {},
   "source": [
    "## Load data and data preprocessing"
   ]
  },
  {
   "cell_type": "markdown",
   "id": "7b16690a-cf21-4cc9-a560-478bf02d16aa",
   "metadata": {},
   "source": [
    "Training dataset will be divided into training (60%), validation (20%) and testing (20%) set. We will transform the dataset into a suitable form. Convert necessary columns into category dtype, fill missing values (-1 for categorical features and mean for continuous values)..."
   ]
  },
  {
   "cell_type": "code",
   "execution_count": 7,
   "id": "489992b1",
   "metadata": {},
   "outputs": [],
   "source": [
    "titanic = pd.read_csv('data.csv')\n",
    "\n",
    "Xdata = titanic.copy()\n",
    "_ = Xdata.drop('survived', axis=1, inplace=True)\n",
    "Ydata = titanic['survived']\n",
    "\n",
    "rd_seed = 10 #Fixed seed\n",
    "train, test, trainRes, testRes = train_test_split(Xdata, Ydata, test_size=0.4, random_state=rd_seed)\n",
    "val, test, valRes, testRes = train_test_split(test, testRes, test_size=0.5, random_state=rd_seed)"
   ]
  },
  {
   "cell_type": "code",
   "execution_count": 8,
   "id": "8da8cdc0-955f-4d34-951b-96c62bbbd9d5",
   "metadata": {},
   "outputs": [
    {
     "data": {
      "text/html": [
       "<div>\n",
       "<style scoped>\n",
       "    .dataframe tbody tr th:only-of-type {\n",
       "        vertical-align: middle;\n",
       "    }\n",
       "\n",
       "    .dataframe tbody tr th {\n",
       "        vertical-align: top;\n",
       "    }\n",
       "\n",
       "    .dataframe thead th {\n",
       "        text-align: right;\n",
       "    }\n",
       "</style>\n",
       "<table border=\"1\" class=\"dataframe\">\n",
       "  <thead>\n",
       "    <tr style=\"text-align: right;\">\n",
       "      <th></th>\n",
       "      <th>ID</th>\n",
       "      <th>survived</th>\n",
       "      <th>pclass</th>\n",
       "      <th>name</th>\n",
       "      <th>sex</th>\n",
       "      <th>age</th>\n",
       "      <th>sibsp</th>\n",
       "      <th>parch</th>\n",
       "      <th>ticket</th>\n",
       "      <th>fare</th>\n",
       "      <th>cabin</th>\n",
       "      <th>embarked</th>\n",
       "      <th>home.dest</th>\n",
       "    </tr>\n",
       "  </thead>\n",
       "  <tbody>\n",
       "    <tr>\n",
       "      <th>0</th>\n",
       "      <td>0</td>\n",
       "      <td>0</td>\n",
       "      <td>3</td>\n",
       "      <td>Goodwin, Master. William Frederick</td>\n",
       "      <td>male</td>\n",
       "      <td>11.0</td>\n",
       "      <td>5</td>\n",
       "      <td>2</td>\n",
       "      <td>CA 2144</td>\n",
       "      <td>46.90</td>\n",
       "      <td>NaN</td>\n",
       "      <td>S</td>\n",
       "      <td>Wiltshire, England Niagara Falls, NY</td>\n",
       "    </tr>\n",
       "    <tr>\n",
       "      <th>1</th>\n",
       "      <td>1</td>\n",
       "      <td>0</td>\n",
       "      <td>3</td>\n",
       "      <td>Jardin, Mr. Jose Neto</td>\n",
       "      <td>male</td>\n",
       "      <td>NaN</td>\n",
       "      <td>0</td>\n",
       "      <td>0</td>\n",
       "      <td>SOTON/O.Q. 3101305</td>\n",
       "      <td>7.05</td>\n",
       "      <td>NaN</td>\n",
       "      <td>S</td>\n",
       "      <td>NaN</td>\n",
       "    </tr>\n",
       "    <tr>\n",
       "      <th>2</th>\n",
       "      <td>2</td>\n",
       "      <td>0</td>\n",
       "      <td>3</td>\n",
       "      <td>Skoog, Master. Harald</td>\n",
       "      <td>male</td>\n",
       "      <td>4.0</td>\n",
       "      <td>3</td>\n",
       "      <td>2</td>\n",
       "      <td>347088</td>\n",
       "      <td>27.90</td>\n",
       "      <td>NaN</td>\n",
       "      <td>S</td>\n",
       "      <td>NaN</td>\n",
       "    </tr>\n",
       "  </tbody>\n",
       "</table>\n",
       "</div>"
      ],
      "text/plain": [
       "   ID  survived  pclass                                name   sex   age  \\\n",
       "0   0         0       3  Goodwin, Master. William Frederick  male  11.0   \n",
       "1   1         0       3               Jardin, Mr. Jose Neto  male   NaN   \n",
       "2   2         0       3               Skoog, Master. Harald  male   4.0   \n",
       "\n",
       "   sibsp  parch              ticket   fare cabin embarked  \\\n",
       "0      5      2             CA 2144  46.90   NaN        S   \n",
       "1      0      0  SOTON/O.Q. 3101305   7.05   NaN        S   \n",
       "2      3      2              347088  27.90   NaN        S   \n",
       "\n",
       "                              home.dest  \n",
       "0  Wiltshire, England Niagara Falls, NY  \n",
       "1                                   NaN  \n",
       "2                                   NaN  "
      ]
     },
     "execution_count": 8,
     "metadata": {},
     "output_type": "execute_result"
    }
   ],
   "source": [
    "titanic.head(3)"
   ]
  },
  {
   "cell_type": "code",
   "execution_count": 9,
   "id": "943e4c7c-28fb-4852-8d89-229c13e4df4c",
   "metadata": {},
   "outputs": [
    {
     "name": "stdout",
     "output_type": "stream",
     "text": [
      "600\n"
     ]
    },
    {
     "data": {
      "text/plain": [
       "ID             0\n",
       "pclass         0\n",
       "name           0\n",
       "sex            0\n",
       "age          115\n",
       "sibsp          0\n",
       "parch          0\n",
       "ticket         0\n",
       "fare           1\n",
       "cabin        451\n",
       "embarked       2\n",
       "home.dest    247\n",
       "dtype: int64"
      ]
     },
     "execution_count": 9,
     "metadata": {},
     "output_type": "execute_result"
    }
   ],
   "source": [
    "print(train.shape[0])\n",
    "train.isnull().sum()"
   ]
  },
  {
   "cell_type": "markdown",
   "id": "5389ca2a-bfcc-47cf-8161-993296f476ed",
   "metadata": {},
   "source": [
    "We will drop 'cabin' and 'home.dest' features because there is a lot of missing data. 'ID' will be dropped as well since it doesn't do much and corresponds to the index of the row."
   ]
  },
  {
   "cell_type": "code",
   "execution_count": 10,
   "id": "d0faab82",
   "metadata": {},
   "outputs": [],
   "source": [
    "fill['age'] = train['age'].mean()\n",
    "fill['fare'] = train['fare'].median()"
   ]
  },
  {
   "cell_type": "code",
   "execution_count": 11,
   "id": "a1f96583",
   "metadata": {},
   "outputs": [],
   "source": [
    "train = transform_df(train)\n",
    "test = transform_df(test)\n",
    "val = transform_df(val)"
   ]
  },
  {
   "cell_type": "code",
   "execution_count": 12,
   "id": "c24f31c9",
   "metadata": {},
   "outputs": [],
   "source": [
    "train_scaled = normalize_df(train.copy())\n",
    "val_scaled = normalize_df(val.copy())\n",
    "test_scaled = normalize_df(test.copy())"
   ]
  },
  {
   "cell_type": "code",
   "execution_count": 13,
   "id": "9687cca0-348e-4ab2-ba25-1583e9d1e950",
   "metadata": {},
   "outputs": [
    {
     "data": {
      "text/html": [
       "<div>\n",
       "<style scoped>\n",
       "    .dataframe tbody tr th:only-of-type {\n",
       "        vertical-align: middle;\n",
       "    }\n",
       "\n",
       "    .dataframe tbody tr th {\n",
       "        vertical-align: top;\n",
       "    }\n",
       "\n",
       "    .dataframe thead th {\n",
       "        text-align: right;\n",
       "    }\n",
       "</style>\n",
       "<table border=\"1\" class=\"dataframe\">\n",
       "  <thead>\n",
       "    <tr style=\"text-align: right;\">\n",
       "      <th></th>\n",
       "      <th>pclass</th>\n",
       "      <th>name</th>\n",
       "      <th>sex</th>\n",
       "      <th>age</th>\n",
       "      <th>sibsp</th>\n",
       "      <th>parch</th>\n",
       "      <th>ticket</th>\n",
       "      <th>fare</th>\n",
       "      <th>embarked</th>\n",
       "    </tr>\n",
       "  </thead>\n",
       "  <tbody>\n",
       "    <tr>\n",
       "      <th>807</th>\n",
       "      <td>2</td>\n",
       "      <td>310</td>\n",
       "      <td>1</td>\n",
       "      <td>25.000000</td>\n",
       "      <td>1</td>\n",
       "      <td>2</td>\n",
       "      <td>455</td>\n",
       "      <td>41.5792</td>\n",
       "      <td>0</td>\n",
       "    </tr>\n",
       "    <tr>\n",
       "      <th>130</th>\n",
       "      <td>1</td>\n",
       "      <td>590</td>\n",
       "      <td>1</td>\n",
       "      <td>30.199313</td>\n",
       "      <td>0</td>\n",
       "      <td>0</td>\n",
       "      <td>73</td>\n",
       "      <td>35.5000</td>\n",
       "      <td>2</td>\n",
       "    </tr>\n",
       "    <tr>\n",
       "      <th>815</th>\n",
       "      <td>2</td>\n",
       "      <td>449</td>\n",
       "      <td>0</td>\n",
       "      <td>50.000000</td>\n",
       "      <td>0</td>\n",
       "      <td>0</td>\n",
       "      <td>481</td>\n",
       "      <td>10.5000</td>\n",
       "      <td>2</td>\n",
       "    </tr>\n",
       "  </tbody>\n",
       "</table>\n",
       "</div>"
      ],
      "text/plain": [
       "     pclass  name  sex        age  sibsp  parch  ticket     fare  embarked\n",
       "807       2   310    1  25.000000      1      2     455  41.5792         0\n",
       "130       1   590    1  30.199313      0      0      73  35.5000         2\n",
       "815       2   449    0  50.000000      0      0     481  10.5000         2"
      ]
     },
     "execution_count": 13,
     "metadata": {},
     "output_type": "execute_result"
    }
   ],
   "source": [
    "train.head(3)"
   ]
  },
  {
   "cell_type": "markdown",
   "id": "3c02c575-be93-4b3c-a0b7-044f20924b67",
   "metadata": {},
   "source": [
    "## Decistion tree and hyperparameters"
   ]
  },
  {
   "cell_type": "markdown",
   "id": "681e0434-9492-4cfc-8801-352b0cb6ddb6",
   "metadata": {},
   "source": [
    "Hyperparemeters to tune - depth, criterion, min_samples_split and min_samples_leafs.\n",
    "* depth - depth of the tree\n",
    "* criterion - criteria used to choose the feature\n",
    "* min_samples_split - minimum number of samples required for splitting a node\n",
    "* min_samples_leaf - minimum number of samples at a leaf node\n",
    "\n",
    "Decision tree simulates human thinking during decision making. Depends quite heavily on training set."
   ]
  },
  {
   "cell_type": "code",
   "execution_count": 14,
   "id": "2a38c5ce",
   "metadata": {},
   "outputs": [
    {
     "name": "stdout",
     "output_type": "stream",
     "text": [
      "Accuracy score (train): 0.823\n",
      "Accuracy score (validation): 0.800\n",
      "Optimal depth: 4\n",
      "Optimal criteria: entropy\n",
      "Optimal minimum number of samples to split: 2\n",
      "Optimal minimum of samples for a leaf node: 1\n"
     ]
    }
   ],
   "source": [
    "param_grid = {\n",
    "    'max_depth': range(1, 20),\n",
    "    'criterion': ['entropy', 'gini'],\n",
    "    'min_samples_split': range(2, 20),\n",
    "    'min_samples_leaf': range(1, 10)\n",
    "}\n",
    "param_comb = ParameterGrid(param_grid)\n",
    "\n",
    "final_params_dt = {}\n",
    "best_val_acc = 0\n",
    "\n",
    "for x in param_comb:\n",
    "    decision_tree = DecisionTreeClassifier(max_depth=x['max_depth'], criterion=x['criterion'], \n",
    "                                           min_samples_split=x['min_samples_split'], min_samples_leaf=x['min_samples_leaf'], random_state=42)\n",
    "    decision_tree.fit(train, trainRes)\n",
    "    val_acc = metrics.accuracy_score(valRes, decision_tree.predict(val))\n",
    "    if val_acc > best_val_acc:\n",
    "        best_val_acc = val_acc\n",
    "        final_params_dt = x\n",
    "\n",
    "decision_tree = DecisionTreeClassifier(random_state=42, max_depth=final_params_dt['max_depth'], criterion=final_params_dt['criterion'], \n",
    "                                       min_samples_split=final_params_dt['min_samples_split'], min_samples_leaf=final_params_dt['min_samples_leaf'])\n",
    "decision_tree.fit(train, trainRes)\n",
    "print('Accuracy score (train): {0:.3f}'.format(metrics.accuracy_score(trainRes, decision_tree.predict(train))))\n",
    "print('Accuracy score (validation): {0:.3f}'.format(metrics.accuracy_score(valRes, decision_tree.predict(val))))\n",
    "print('Optimal depth: ' + str(final_params_dt['max_depth']))\n",
    "print('Optimal criteria: ' + str(final_params_dt['criterion']))\n",
    "print('Optimal minimum number of samples to split: ' + str(final_params_dt['min_samples_split']))\n",
    "print('Optimal minimum of samples for a leaf node: ' + str(final_params_dt['min_samples_leaf']))"
   ]
  },
  {
   "cell_type": "markdown",
   "id": "03b7a281-6d98-4341-83ae-039c60118fb5",
   "metadata": {},
   "source": [
    "We fixed random_state for the decision tree to obtain deterministic behaviour during the fitting. We can see that the min_samples_split and min_samples_leafs were essentially left on the default values."
   ]
  },
  {
   "cell_type": "markdown",
   "id": "58e6875b",
   "metadata": {},
   "source": [
    "### ROC curve and AUC"
   ]
  },
  {
   "cell_type": "code",
   "execution_count": 15,
   "id": "555037f7",
   "metadata": {},
   "outputs": [
    {
     "data": {
      "image/png": "[encoded data removed]",
      "text/plain": [
       "<Figure size 640x480 with 1 Axes>"
      ]
     },
     "metadata": {},
     "output_type": "display_data"
    },
    {
     "name": "stdout",
     "output_type": "stream",
     "text": [
      "F1 score (validation): 74.03%\n"
     ]
    }
   ],
   "source": [
    "pred_proba = decision_tree.predict_proba(val)\n",
    "fpr, tpr, thresholds = metrics.roc_curve(valRes, pred_proba[:, 1])\n",
    "\n",
    "AUC = metrics.auc(fpr, tpr)\n",
    "\n",
    "plt.figure()\n",
    "plt.plot(fpr, tpr, color=\"darkorange\", lw=2, label = f\"ROC curve (AUC = {AUC:.3f})\")\n",
    "plt.plot([0, 1], [0, 1], color=\"navy\", lw=2, linestyle=\"--\", label='Random prediction (AUC = 0.5)')\n",
    "plt.xlim([0, 1])\n",
    "plt.ylim([0, 1.02])\n",
    "plt.xlabel(\"False Positive Rate\")\n",
    "plt.ylabel(\"True Positive Rate\")\n",
    "plt.title(\"ROC curve\")\n",
    "plt.legend(loc=\"lower right\")\n",
    "plt.grid()\n",
    "plt.show()\n",
    "print('F1 score (validation): {0:.2f}%'.format(metrics.f1_score(valRes, decision_tree.predict(val))*100))"
   ]
  },
  {
   "cell_type": "markdown",
   "id": "205592dc-0c07-4dde-b5f7-6b25c65e5f10",
   "metadata": {},
   "source": [
    "The graph looks good, the line risees steeply and then goes to the right corner. However, it is a bit smooth."
   ]
  },
  {
   "cell_type": "markdown",
   "id": "206526ee",
   "metadata": {},
   "source": [
    "# KNN"
   ]
  },
  {
   "cell_type": "markdown",
   "id": "927d6968",
   "metadata": {},
   "source": [
    "Hyperparameters to tune - n_neighbors, metric a weights.\n",
    "\n",
    "* n_neighbors - number of n_neighbors\n",
    "* metric - metric for distance computation\n",
    "* weights - weight of the nearest neighbours\n",
    "\n",
    "KNN is good for finding similarities between different passengers based on various features."
   ]
  },
  {
   "cell_type": "code",
   "execution_count": 16,
   "id": "3c5d23c8",
   "metadata": {},
   "outputs": [
    {
     "name": "stdout",
     "output_type": "stream",
     "text": [
      "Accuracy score (train): 1.000\n",
      "Accuracy score (validation): 0.805\n",
      "Optimal number of k-neighbours: 19\n",
      "Optimal weight: distance\n",
      "Optimal metric: manhattan\n"
     ]
    }
   ],
   "source": [
    "param_grid = {\n",
    "    'n_neighbors': range(1, 20),\n",
    "    'metric': ['minkowski', 'euclidean', 'manhattan'],\n",
    "    'weights': ['distance', 'uniform']\n",
    "}\n",
    "param_comb = ParameterGrid(param_grid)\n",
    "\n",
    "final_params_knn = {}\n",
    "best_val_acc = 0\n",
    "\n",
    "for x in param_comb:\n",
    "    knn = KNeighborsClassifier(n_neighbors=x['n_neighbors'], metric=x['metric'], weights=x['weights'])\n",
    "    knn.fit(train_scaled, trainRes)\n",
    "    val_acc = metrics.accuracy_score(valRes, knn.predict(val_scaled))\n",
    "    if val_acc > best_val_acc:\n",
    "        best_val_acc = val_acc\n",
    "        final_params_knn = x\n",
    "\n",
    "knn = KNeighborsClassifier(n_neighbors=final_params_knn['n_neighbors'], metric=final_params_knn['metric'], weights=final_params_knn['weights'])\n",
    "knn.fit(train_scaled, trainRes)\n",
    "print('Accuracy score (train): {0:.3f}'.format(metrics.accuracy_score(trainRes, knn.predict(train_scaled))))\n",
    "print('Accuracy score (validation): {0:.3}'.format(metrics.accuracy_score(valRes, knn.predict(val_scaled))))\n",
    "print('Optimal number of k-neighbours: ' + str(final_params_knn['n_neighbors']))\n",
    "print('Optimal weight: ' + str(final_params_knn['weights']))\n",
    "print('Optimal metric: ' + str(final_params_knn['metric']))"
   ]
  },
  {
   "cell_type": "markdown",
   "id": "397a3362-6936-49bd-ac09-9a98c788e073",
   "metadata": {},
   "source": [
    "KNN will always have the same accuracy on the training set (fixed by seed in train_test_split), because unlike a decision tree it doesn't have a random_state."
   ]
  },
  {
   "cell_type": "markdown",
   "id": "4ecdb530",
   "metadata": {},
   "source": [
    "### ROC curve and AUC"
   ]
  },
  {
   "cell_type": "code",
   "execution_count": 17,
   "id": "2ab1f097",
   "metadata": {},
   "outputs": [
    {
     "data": {
      "image/png": "[encoded data removed]",
      "text/plain": [
       "<Figure size 640x480 with 1 Axes>"
      ]
     },
     "metadata": {},
     "output_type": "display_data"
    },
    {
     "name": "stdout",
     "output_type": "stream",
     "text": [
      "F1 score (validation): 71.53%\n"
     ]
    }
   ],
   "source": [
    "pred_proba = knn.predict_proba(val_scaled)\n",
    "fpr, tpr, thresholds = metrics.roc_curve(valRes, pred_proba[:,1])\n",
    "\n",
    "AUC = metrics.auc(fpr, tpr)\n",
    "\n",
    "plt.figure()\n",
    "plt.plot(fpr, tpr, color=\"darkorange\", lw=2, label = f\"ROC curve (AUC = {AUC:.3f})\")\n",
    "plt.plot([0, 1], [0, 1], color=\"navy\", lw=2, linestyle=\"--\", label='Random prediction (AUC = 0.5)')\n",
    "\n",
    "pred_proba = decision_tree.predict_proba(val)\n",
    "\n",
    "plt.xlim([0, 1])\n",
    "plt.ylim([0, 1.02])\n",
    "plt.xlabel(\"False Positive Rate\")\n",
    "plt.ylabel(\"True Positive Rate\")\n",
    "plt.title(\"ROC curve\")\n",
    "plt.legend(loc=\"lower right\")\n",
    "plt.grid()\n",
    "plt.show()\n",
    "print('F1 score (validation): {0:.2f}%'.format(metrics.f1_score(valRes, knn.predict(val_scaled))*100))"
   ]
  },
  {
   "cell_type": "markdown",
   "id": "bd6a47fd-ef4d-4278-bb36-ae2887fc4ad9",
   "metadata": {},
   "source": [
    "Compared to the decision tree, the line doesn't rise as steeply."
   ]
  },
  {
   "cell_type": "markdown",
   "id": "f6ff50e2",
   "metadata": {},
   "source": [
    "## Final model"
   ]
  },
  {
   "cell_type": "markdown",
   "id": "7e4383e5-8334-4436-a351-342d5b6e93cf",
   "metadata": {},
   "source": [
    "Validation accuracy is about the same for both models. The decision tree has a slightly better graph and F1 score. Thus, we will use the decision tree as our final model. We will run it on the testing set."
   ]
  },
  {
   "cell_type": "code",
   "execution_count": 18,
   "id": "59e2e647",
   "metadata": {
    "scrolled": true
   },
   "outputs": [
    {
     "name": "stdout",
     "output_type": "stream",
     "text": [
      "Decision Tree:\n",
      "Accuracy score (test): 0.765\n"
     ]
    }
   ],
   "source": [
    "print('Decision Tree:')\n",
    "print('Accuracy score (test): {0:.3f}'.format(metrics.accuracy_score(testRes, decision_tree.predict(test))))"
   ]
  },
  {
   "cell_type": "markdown",
   "id": "732e0885-705a-4174-8b26-b4517ed705c4",
   "metadata": {},
   "source": [
    "Test accuracy is 76.5% which will be our estimated accuracy on any new data."
   ]
  }
 ],
 "metadata": {
  "kernelspec": {
   "display_name": "Python 3 (ipykernel)",
   "language": "python",
   "name": "python3"
  },
  "language_info": {
   "codemirror_mode": {
    "name": "ipython",
    "version": 3
   },
   "file_extension": ".py",
   "mimetype": "text/x-python",
   "name": "python",
   "nbconvert_exporter": "python",
   "pygments_lexer": "ipython3",
   "version": "3.11.5"
  }
 },
 "nbformat": 4,
 "nbformat_minor": 5
}
